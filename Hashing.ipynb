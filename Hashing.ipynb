{
 "cells": [
  {
   "cell_type": "code",
   "execution_count": 6,
   "metadata": {},
   "outputs": [
    {
     "name": "stdout",
     "output_type": "stream",
     "text": [
      "6880100181731635262\n"
     ]
    }
   ],
   "source": [
    "#The hash() method returns the hash value of an object if it has one. Hash values are just integers that are used to compare dictionary keys during a dictionary look quickly.\n",
    "#works only on tuples (immutable)\n",
    "\n",
    "num = 'abc'\n",
    "print(hash(num))\n"
   ]
  },
  {
   "cell_type": "code",
   "execution_count": 2,
   "metadata": {},
   "outputs": [
    {
     "name": "stdout",
     "output_type": "stream",
     "text": [
      "{3: 1, 4: 3, 5: 2, 6: 1}\n"
     ]
    }
   ],
   "source": [
    "#count frequency of elements\n",
    "arr =[3,4,5,4,6,5,4]\n",
    "d = {}\n",
    "for item in arr:\n",
    "     d[item] = d.get(item,0) + 1\n",
    "     \n",
    "print(d)"
   ]
  },
  {
   "cell_type": "code",
   "execution_count": 13,
   "metadata": {},
   "outputs": [
    {
     "name": "stdout",
     "output_type": "stream",
     "text": [
      "{3: 1, 4: 3, 5: 2, 6: 1}\n",
      "4 3\n",
      "3 1\n"
     ]
    }
   ],
   "source": [
    "#min and max\n",
    "print(d)\n",
    "maxcount = float('-inf')\n",
    "maxkey  = None\n",
    "\n",
    "mincount = 100000\n",
    "minkey = 0\n",
    "\n",
    "for key,count in d.items():\n",
    "    if maxcount < count:\n",
    "        maxcount = count\n",
    "        maxkey = key\n",
    "        \n",
    "print(maxkey,maxcount)\n",
    "\n",
    "for key,count in d.items():\n",
    "    if mincount > count :\n",
    "        mincount = count\n",
    "        minkey = key\n",
    "        \n",
    "print(minkey,mincount)"
   ]
  }
 ],
 "metadata": {
  "kernelspec": {
   "display_name": "base",
   "language": "python",
   "name": "python3"
  },
  "language_info": {
   "codemirror_mode": {
    "name": "ipython",
    "version": 3
   },
   "file_extension": ".py",
   "mimetype": "text/x-python",
   "name": "python",
   "nbconvert_exporter": "python",
   "pygments_lexer": "ipython3",
   "version": "3.11.5"
  }
 },
 "nbformat": 4,
 "nbformat_minor": 2
}
