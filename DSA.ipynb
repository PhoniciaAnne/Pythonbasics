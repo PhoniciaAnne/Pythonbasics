{
  "cells": [
    {
      "cell_type": "markdown",
      "metadata": {
        "id": "view-in-github",
        "colab_type": "text"
      },
      "source": [
        "<a href=\"https://colab.research.google.com/github/PhoniciaAnne/Pythonbasics/blob/main/DSA.ipynb\" target=\"_parent\"><img src=\"https://colab.research.google.com/assets/colab-badge.svg\" alt=\"Open In Colab\"/></a>"
      ]
    },
    {
      "cell_type": "code",
      "execution_count": null,
      "metadata": {
        "id": "KigjhTkikGin"
      },
      "outputs": [],
      "source": [
        "#user defined\n",
        " arrays\n",
        "stack\n",
        "queue\n",
        "trees\n",
        "linked list\n",
        "graphs\n",
        "hashmaps\n"
      ]
    },
    {
      "cell_type": "code",
      "execution_count": null,
      "metadata": {
        "id": "SayC0aqIKpId"
      },
      "outputs": [],
      "source": []
    },
    {
      "cell_type": "code",
      "execution_count": null,
      "metadata": {
        "colab": {
          "base_uri": "https://localhost:8080/"
        },
        "id": "2ZR6QBVukg6H",
        "outputId": "5c2b6397-0cab-4fd9-d816-de10cb7ca17d"
      },
      "outputs": [
        {
          "name": "stdout",
          "output_type": "stream",
          "text": [
            "array('b', [1, -2, 3])\n",
            "array('b', [1, -2, 3, 2])\n",
            "array('b', [1, -2, 3, 2, 1, 3])\n",
            "array('b', [1, -2, 2, 1, 3])\n",
            "3\n",
            "2\n"
          ]
        }
      ],
      "source": [
        "#arrays\n",
        "import array as arr\n",
        "a=arr.array('b',[1,-2,3])\n",
        "print(a)\n",
        "a.append(2)\n",
        "print(a)\n",
        "a.extend([1,3])\n",
        "print(a)\n",
        "a.pop(2)\n",
        "print(a)\n",
        "print(a.pop())\n",
        "print(sum(a))"
      ]
    },
    {
      "cell_type": "code",
      "execution_count": null,
      "metadata": {
        "colab": {
          "base_uri": "https://localhost:8080/"
        },
        "id": "29NStvLMsS70",
        "outputId": "eea477c9-b03f-4d1a-bc78-67e8bc48a9fd"
      },
      "outputs": [
        {
          "name": "stdout",
          "output_type": "stream",
          "text": [
            "15"
          ]
        }
      ],
      "source": [
        "a1=arr.array(\"i\",[1,2,3,4,5])\n",
        "sum=0\n",
        "for i in range(0,len(a1)):\n",
        "  sum=sum+a1[i]\n",
        "print(sum)"
      ]
    },
    {
      "cell_type": "code",
      "execution_count": null,
      "metadata": {
        "colab": {
          "base_uri": "https://localhost:8080/"
        },
        "id": "vs8qVdvZmEaj",
        "outputId": "46cf3825-6b3d-4326-aeed-50fe46d3fadf"
      },
      "outputs": [
        {
          "name": "stdout",
          "output_type": "stream",
          "text": [
            "3 push to stack\n",
            "5 push to stack\n",
            "7 push to stack\n",
            "9 push to stack\n",
            "9\n"
          ]
        }
      ],
      "source": [
        "#stack - linear ds,lifo  ts=o(1)\n",
        " #constructor\n",
        "class stack(object):\n",
        "  def __init__(self):\n",
        "    self.emptystack = []\n",
        "    self.index = 0\n",
        "\n",
        "    # checking empty\n",
        "  def isEmpty(self):\n",
        "    return self.stack == []\n",
        "\n",
        "    #pushing element\n",
        "  def push(self,data):\n",
        "    self.emptystack.insert(self.index,data)\n",
        "    self.index +=1 #increment index\n",
        "    return \"{} push to stack\".format(data)\n",
        "  #delete\n",
        "  def pop(self):\n",
        "    self.index-=1\n",
        "    data = self.emptystack.pop(self.index)\n",
        "    return ('{}'.format(data))\n",
        "  def size(self):\n",
        "    return len(self.stack)\n",
        "\n",
        "#testing\n",
        "if __name__==\"__main__\":\n",
        "  s= stack()\n",
        "  print(s.push(3))\n",
        "  print(s.push(5))\n",
        "  print(s.push(7))\n",
        "  print(s.push(9))\n",
        "  print(s.pop())\n"
      ]
    },
    {
      "cell_type": "code",
      "execution_count": null,
      "metadata": {
        "colab": {
          "base_uri": "https://localhost:8080/"
        },
        "id": "BpbdIbfd7TNI",
        "outputId": "edf6d09f-16a6-4cb6-a2a0-165fcaaf6692"
      },
      "outputs": [
        {
          "name": "stdout",
          "output_type": "stream",
          "text": [
            "Stack:  ['A', 'B', 'C']\n",
            "Pop:  C\n"
          ]
        }
      ],
      "source": [
        "class stack:\n",
        "  def __init__(self):\n",
        "    self.Stack =[]\n",
        "  def push (self,ele):\n",
        "    self.Stack.append(ele)\n",
        "  def pop (self):\n",
        "    return self.Stack.pop()\n",
        "\n",
        "\n",
        "\n",
        "# Create a stack\n",
        "myStack = stack()\n",
        "\n",
        "myStack.push('A')\n",
        "myStack.push('B')\n",
        "myStack.push('C')\n",
        "print(\"Stack: \", myStack.Stack)\n",
        "\n",
        "\n",
        "print(\"Pop: \", myStack.pop())\n"
      ]
    },
    {
      "cell_type": "code",
      "execution_count": null,
      "metadata": {
        "colab": {
          "base_uri": "https://localhost:8080/"
        },
        "id": "4JWggMzdA0-x",
        "outputId": "bc41c7cd-e8ca-4870-ede3-36289de57695"
      },
      "outputs": [
        {
          "name": "stdout",
          "output_type": "stream",
          "text": [
            "2 queue is\n",
            "3 queue is\n",
            "4 queue is\n",
            "2\n",
            "2\n",
            "False\n"
          ]
        }
      ],
      "source": [
        "#queue\n",
        "class Queue(object):\n",
        "  def __init__(self):\n",
        "    self.queue = []\n",
        "\n",
        "  def isEmpty(self):\n",
        "    return self.queue==[]\n",
        "  def enque(self,data):\n",
        "    self.queue.insert(0,data)\n",
        "    return \"{} queue is\".format(data)\n",
        "  def deque(self):\n",
        "    return self.queue.pop()\n",
        "\n",
        "  def size(self):\n",
        "     return len(self.queue)\n",
        "Q1 = Queue()\n",
        "print(Q1.enque(2))\n",
        "print(Q1.enque(3))\n",
        "print(Q1.enque(4))\n",
        "print(Q1.deque())\n",
        "print(Q1.size())\n",
        "print(Q1.isEmpty())"
      ]
    },
    {
      "cell_type": "code",
      "execution_count": null,
      "metadata": {
        "colab": {
          "base_uri": "https://localhost:8080/"
        },
        "id": "i0ipe3BkKrEk",
        "outputId": "99ca029c-33c4-48a4-d0bf-09ee3a3c6e57"
      },
      "outputs": [
        {
          "name": "stdout",
          "output_type": "stream",
          "text": [
            "1 2 3\n",
            "array('i', [1, 2, 3])\n"
          ]
        }
      ],
      "source": [
        "import array as arr\n",
        "a = (input(\"\"))\n",
        "aa = list(map(int,a.split()))\n",
        "a1=arr.array(\"i\",aa)\n",
        "print(a1)"
      ]
    },
    {
      "cell_type": "code",
      "execution_count": null,
      "metadata": {
        "colab": {
          "base_uri": "https://localhost:8080/"
        },
        "id": "xfTabDJrL_iI",
        "outputId": "38bd0a25-4157-48ce-f4d2-25f97602108e"
      },
      "outputs": [
        {
          "name": "stdout",
          "output_type": "stream",
          "text": [
            "*****\n",
            "*****\n",
            "*****\n",
            "*****\n",
            "*****\n"
          ]
        }
      ],
      "source": [
        "#pattern prblms - 5*5\n",
        "n = 5\n",
        "for i in range(n):\n",
        "  for j in range(n):\n",
        "    print(\"*\",end=\"\")\n",
        "  print()\n"
      ]
    },
    {
      "cell_type": "code",
      "execution_count": null,
      "metadata": {
        "colab": {
          "base_uri": "https://localhost:8080/"
        },
        "id": "q1kbcMDYXQ09",
        "outputId": "a22a45d2-85db-47a7-9b95-289d63b08ac7"
      },
      "outputs": [
        {
          "name": "stdout",
          "output_type": "stream",
          "text": [
            "*\n",
            "**\n",
            "***\n",
            "****\n",
            "*****\n"
          ]
        }
      ],
      "source": [
        "# 1 to 5\n",
        "n = 5\n",
        "for i in range(n):\n",
        "  for j in range(i+1):\n",
        "    print(\"*\",end=\"\")\n",
        "  print()"
      ]
    },
    {
      "cell_type": "code",
      "execution_count": null,
      "metadata": {
        "colab": {
          "base_uri": "https://localhost:8080/"
        },
        "id": "E3-btZUnX0vB",
        "outputId": "576669c0-87fe-411d-d0c4-8d2c0403f73b"
      },
      "outputs": [
        {
          "name": "stdout",
          "output_type": "stream",
          "text": [
            "1\n",
            "12\n",
            "123\n",
            "1234\n",
            "12345\n"
          ]
        }
      ],
      "source": [
        "n = 5\n",
        "for i in range(n):\n",
        "  for j in range(i+1):\n",
        "    print(j+1,end =\"\")\n",
        "  print()"
      ]
    },
    {
      "cell_type": "code",
      "execution_count": null,
      "metadata": {
        "colab": {
          "base_uri": "https://localhost:8080/"
        },
        "id": "d53cgkIWaqog",
        "outputId": "ff04bb83-675f-4e55-a984-d2776f847a36"
      },
      "outputs": [
        {
          "name": "stdout",
          "output_type": "stream",
          "text": [
            "1\n",
            "22\n",
            "333\n",
            "4444\n",
            "55555\n"
          ]
        }
      ],
      "source": [
        "n = 5\n",
        "for i in range(n):\n",
        "  for j in range(i+1):\n",
        "    print(i+1,end = \"\")\n",
        "  print()\n"
      ]
    },
    {
      "cell_type": "code",
      "execution_count": null,
      "metadata": {
        "colab": {
          "base_uri": "https://localhost:8080/"
        },
        "id": "cHyF74OKcZhj",
        "outputId": "d72720c1-28cd-46b3-a6bd-c3df638e30bd"
      },
      "outputs": [
        {
          "name": "stdout",
          "output_type": "stream",
          "text": [
            "*****\n",
            "****\n",
            "***\n",
            "**\n",
            "*\n"
          ]
        }
      ],
      "source": [
        " n = 5\n",
        " for i in range(n):\n",
        "  for j in range(n-i):\n",
        "    print(\"*\",end = \"\")\n",
        "  print()"
      ]
    },
    {
      "cell_type": "code",
      "execution_count": null,
      "metadata": {
        "colab": {
          "base_uri": "https://localhost:8080/"
        },
        "id": "9NdwI5EUdArr",
        "outputId": "eb5b3843-0308-4f19-90cd-4fd97ce4dc87"
      },
      "outputs": [
        {
          "name": "stdout",
          "output_type": "stream",
          "text": [
            "12345\n",
            "1234\n",
            "123\n",
            "12\n",
            "1\n"
          ]
        }
      ],
      "source": [
        "n = 5\n",
        "for i in range(n):\n",
        "  for j in range(n-i):\n",
        "    print(j+1,end=\"\")\n",
        "  print()"
      ]
    },
    {
      "cell_type": "code",
      "execution_count": null,
      "metadata": {
        "colab": {
          "base_uri": "https://localhost:8080/"
        },
        "id": "01bT_Jp0dNAu",
        "outputId": "870dc23f-83d4-4b68-ffef-a790b3c18db9"
      },
      "outputs": [
        {
          "name": "stdout",
          "output_type": "stream",
          "text": [
            "    *\n",
            "   ***\n",
            "  *****\n",
            " *******\n",
            "*********\n"
          ]
        }
      ],
      "source": [
        " #pyramid pattern\n",
        "n = 5\n",
        "for i in range(n):\n",
        "  for j in range(n-1-i):\n",
        "    print( ' ',end=\"\")\n",
        "  for _ in range(i*2+1):\n",
        "    print(\"*\",end=\"\")\n",
        "  print()"
      ]
    },
    {
      "cell_type": "code",
      "execution_count": null,
      "metadata": {
        "colab": {
          "base_uri": "https://localhost:8080/"
        },
        "id": "RWjJeO_miZu0",
        "outputId": "3bf26f0d-9c85-4ebc-9881-432a2753cf7c"
      },
      "outputs": [
        {
          "name": "stdout",
          "output_type": "stream",
          "text": [
            "*********\n",
            " *******\n",
            "  *****\n",
            "   ***\n",
            "    *\n"
          ]
        }
      ],
      "source": [
        "n = 5\n",
        "for i in range(n):\n",
        "  for j in range(i):\n",
        "    print(\" \",end=\"\")\n",
        "  for _ in range(2*(n-i-1)+1):\n",
        "    print(\"*\",end=\"\")\n",
        "  print()\n"
      ]
    },
    {
      "cell_type": "code",
      "execution_count": null,
      "metadata": {
        "colab": {
          "base_uri": "https://localhost:8080/"
        },
        "id": "YhE5UQA-nKt2",
        "outputId": "2a0f628f-0247-4db2-fa31-67c66dbc6bfe"
      },
      "outputs": [
        {
          "name": "stdout",
          "output_type": "stream",
          "text": [
            "    *\n",
            "   ***\n",
            "  *****\n",
            " *******\n",
            "*********\n",
            "*********\n",
            " *******\n",
            "  *****\n",
            "   ***\n",
            "    *\n"
          ]
        }
      ],
      "source": [
        "#pyramid pattern\n",
        "n = 5\n",
        "for i in range(n):\n",
        "  for j in range(n-1-i):\n",
        "    print( ' ',end=\"\")\n",
        "  for _ in range(i*2+1):\n",
        "    print(\"*\",end=\"\")\n",
        "  print()\n",
        "for i in range(n):\n",
        "  for j in range(i):\n",
        "9    print(\" \",end=\"\")\n",
        "  for _ in range(2*(n-i-1)+1):\n",
        "    print(\"*\",end=\"\")\n",
        "  print()"
      ]
    },
    {
      "cell_type": "code",
      "execution_count": null,
      "metadata": {
        "colab": {
          "base_uri": "https://localhost:8080/"
        },
        "id": "SuzWiK8QLQTI",
        "outputId": "2e5d3bb2-c1e2-41d0-e618-a09c3d832323"
      },
      "outputs": [
        {
          "name": "stdout",
          "output_type": "stream",
          "text": [
            "*\n",
            "**\n",
            "***\n",
            "****\n",
            "*****\n",
            "****\n",
            "***\n",
            "**\n",
            "*\n"
          ]
        }
      ],
      "source": [
        "n = 5\n",
        "for i in range(n):\n",
        "  for j in range(i+1):\n",
        "    print(\"*\",end='')\n",
        "  print()\n",
        "for i in range(n-1):\n",
        "  for j in range(n-1-i):\n",
        "    print(\"*\",end=\"\")\n",
        "  print()"
      ]
    },
    {
      "cell_type": "code",
      "execution_count": null,
      "metadata": {
        "colab": {
          "base_uri": "https://localhost:8080/"
        },
        "id": "ESfPjntGMkVn",
        "outputId": "08372890-3bdb-4b28-94d4-753fa4663a43"
      },
      "outputs": [
        {
          "name": "stdout",
          "output_type": "stream",
          "text": [
            "*\n",
            "**\n",
            "***\n",
            "****\n",
            "*****\n",
            "****\n",
            "***\n",
            "**\n",
            "*\n"
          ]
        }
      ],
      "source": [
        "n = 5\n",
        "for i in range(2*n-1):\n",
        "  if i<n:\n",
        "    for i in range(i+1):\n",
        "      print(\"*\",end=\"\")\n",
        "    print()\n",
        "  else:\n",
        "    for j in range(2*n-1-i):\n",
        "      print(\"*\",end=\"\")\n",
        "    print()"
      ]
    },
    {
      "cell_type": "code",
      "execution_count": null,
      "metadata": {
        "colab": {
          "base_uri": "https://localhost:8080/"
        },
        "id": "iEgGWP7nNfX4",
        "outputId": "1a1dee07-952a-45fd-b597-32b609aec487"
      },
      "outputs": [
        {
          "name": "stdout",
          "output_type": "stream",
          "text": [
            "1\n",
            "01\n",
            "101\n",
            "0101\n",
            "10101\n"
          ]
        }
      ],
      "source": [
        "n = 5\n",
        "for i in range(n):\n",
        "  for j in range(i+1):\n",
        "    if((i+j)%2==0):\n",
        "      print(\"1\",end=\"\")\n",
        "    else:\n",
        "      print(\"0\",end=\"\")\n",
        "  print()\n"
      ]
    },
    {
      "cell_type": "code",
      "execution_count": null,
      "metadata": {
        "colab": {
          "background_save": true,
          "base_uri": "https://localhost:8080/"
        },
        "id": "_idUElfrQ2DQ",
        "outputId": "0cd3c74d-a949-4f54-c478-9e046ab7553e"
      },
      "outputs": [
        {
          "name": "stdout",
          "output_type": "stream",
          "text": [
            "1\n",
            "01\n",
            "101\n",
            "0101\n",
            "10101\n"
          ]
        }
      ],
      "source": [
        "for i in range(n):\n",
        "  for j in range(i+1):\n",
        "    print((i+j)%2,end=\"\")\n",
        "  print()"
      ]
    },
    {
      "cell_type": "code",
      "execution_count": null,
      "metadata": {
        "id": "D6sSVnceRfem"
      },
      "outputs": [],
      "source": []
    }
  ],
  "metadata": {
    "colab": {
      "provenance": [],
      "authorship_tag": "ABX9TyPXcapi5P7gN0F5W/YUMe/Q",
      "include_colab_link": true
    },
    "kernelspec": {
      "display_name": "Python 3",
      "name": "python3"
    },
    "language_info": {
      "name": "python"
    }
  },
  "nbformat": 4,
  "nbformat_minor": 0
}