{
 "cells": [
  {
   "cell_type": "code",
   "execution_count": null,
   "metadata": {},
   "outputs": [],
   "source": [
    "#selection sort\n",
    "#go index by index from starting to Ending \n",
    "#find the findex - index which contain right element for current index\n",
    "#swap findex with currebt index "
   ]
  },
  {
   "cell_type": "code",
   "execution_count": 26,
   "metadata": {},
   "outputs": [
    {
     "name": "stdout",
     "output_type": "stream",
     "text": [
      "[56, 45, 30, 23, 12]\n"
     ]
    }
   ],
   "source": [
    "arr = [30,56,23,12,45]\n",
    "\n",
    "def selection_sort(arr):\n",
    "    for i in range(len(arr)-1):\n",
    "        minindex = i\n",
    "        for j in range(i+1,len(arr)):\n",
    "            if arr[minindex] > arr[j]:\n",
    "                  minindex = j\n",
    "        arr[i],arr[minindex] = arr[minindex],arr[i]\n",
    "    return arr\n",
    "print(selection_sort(arr))\n"
   ]
  },
  {
   "cell_type": "code",
   "execution_count": 25,
   "metadata": {},
   "outputs": [
    {
     "data": {
      "text/plain": [
       "[12, 23, 43, 45, 66, 75]"
      ]
     },
     "execution_count": 25,
     "metadata": {},
     "output_type": "execute_result"
    }
   ],
   "source": [
    "#quick sort\n",
    "\n",
    "arr = [12,45,66,75,23,43]\n",
    "def quick_sort(arr):\n",
    "    for i in range(len(arr)):\n",
    "        for j in range(0,len(arr)-i-1):\n",
    "            if arr[j] > arr[j+1]:\n",
    "              arr[j+1],arr[j]  =arr[j],arr[j+1] \n",
    "    return arr\n",
    "    \n",
    "    \n",
    "quick_sort(arr)\n",
    "                "
   ]
  },
  {
   "cell_type": "code",
   "execution_count": 4,
   "metadata": {},
   "outputs": [
    {
     "name": "stdout",
     "output_type": "stream",
     "text": [
      "[1, 3, 5, 7, 10]\n"
     ]
    }
   ],
   "source": [
    "# Insertion sort\n",
    "arr = [10,5,7,3,1]\n",
    "def Insertion(arr):\n",
    "    for i in range(1,len(arr)):\n",
    "        key = arr[i]\n",
    "        j = i-1\n",
    "        while j>=0 and key<arr[j]:\n",
    "            arr[j + 1] = arr[j]\n",
    "            j-=1\n",
    "        \n",
    "        arr[j+1] = key\n",
    "    return arr\n",
    "        \n",
    "\n",
    "print(Insertion(arr))"
   ]
  },
  {
   "cell_type": "code",
   "execution_count": null,
   "metadata": {},
   "outputs": [],
   "source": []
  }
 ],
 "metadata": {
  "kernelspec": {
   "display_name": "base",
   "language": "python",
   "name": "python3"
  },
  "language_info": {
   "codemirror_mode": {
    "name": "ipython",
    "version": 3
   },
   "file_extension": ".py",
   "mimetype": "text/x-python",
   "name": "python",
   "nbconvert_exporter": "python",
   "pygments_lexer": "ipython3",
   "version": "3.11.5"
  }
 },
 "nbformat": 4,
 "nbformat_minor": 2
}
