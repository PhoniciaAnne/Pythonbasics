{
 "cells": [
  {
   "cell_type": "code",
   "execution_count": 27,
   "metadata": {},
   "outputs": [
    {
     "name": "stdout",
     "output_type": "stream",
     "text": [
      "hello\n"
     ]
    }
   ],
   "source": [
    "print(\"hello\")"
   ]
  },
  {
   "cell_type": "code",
   "execution_count": 28,
   "metadata": {},
   "outputs": [
    {
     "name": "stdout",
     "output_type": "stream",
     "text": [
      "13\n"
     ]
    }
   ],
   "source": [
    "print(5+8)"
   ]
  },
  {
   "cell_type": "code",
   "execution_count": 29,
   "metadata": {},
   "outputs": [
    {
     "ename": "ValueError",
     "evalue": "invalid literal for int() with base 10: ''",
     "output_type": "error",
     "traceback": [
      "\u001b[1;31m---------------------------------------------------------------------------\u001b[0m",
      "\u001b[1;31mValueError\u001b[0m                                Traceback (most recent call last)",
      "Cell \u001b[1;32mIn[29], line 2\u001b[0m\n\u001b[0;32m      1\u001b[0m \u001b[38;5;66;03m# 1 sum of numbers\u001b[39;00m\n\u001b[1;32m----> 2\u001b[0m n \u001b[38;5;241m=\u001b[39m \u001b[38;5;28mint\u001b[39m(\u001b[38;5;28minput\u001b[39m())\n\u001b[0;32m      3\u001b[0m \u001b[38;5;28msum\u001b[39m \u001b[38;5;241m=\u001b[39m \u001b[38;5;241m0\u001b[39m\n\u001b[0;32m      4\u001b[0m \u001b[38;5;28;01mfor\u001b[39;00m i \u001b[38;5;129;01min\u001b[39;00m \u001b[38;5;28mrange\u001b[39m(n\u001b[38;5;241m+\u001b[39m\u001b[38;5;241m1\u001b[39m):\n",
      "\u001b[1;31mValueError\u001b[0m: invalid literal for int() with base 10: ''"
     ]
    }
   ],
   "source": [
    "# 1 sum of numbers\n",
    "n = int(input())\n",
    "sum = 0\n",
    "for i in range(n+1):\n",
    "    sum+=i\n",
    "print(sum)\n"
   ]
  },
  {
   "cell_type": "code",
   "execution_count": null,
   "metadata": {},
   "outputs": [
    {
     "name": "stdout",
     "output_type": "stream",
     "text": [
      "0\n",
      "1\n",
      "2\n"
     ]
    }
   ],
   "source": [
    "# 2 prog to print 1 to n numbers\n",
    "n = int(input())\n",
    "for i in range(n):\n",
    "    print(i)\n"
   ]
  },
  {
   "cell_type": "code",
   "execution_count": null,
   "metadata": {},
   "outputs": [
    {
     "name": "stdout",
     "output_type": "stream",
     "text": [
      "3\n"
     ]
    }
   ],
   "source": [
    "print(n)"
   ]
  },
  {
   "cell_type": "code",
   "execution_count": null,
   "metadata": {},
   "outputs": [
    {
     "name": "stdout",
     "output_type": "stream",
     "text": [
      "['4']\n",
      "5\n"
     ]
    }
   ],
   "source": [
    "c = input().split(\",\")\n",
    "d = input()\n",
    "print(c) \n",
    "print(d)# Output: 6 Hello"
   ]
  },
  {
   "cell_type": "code",
   "execution_count": null,
   "metadata": {},
   "outputs": [
    {
     "name": "stdout",
     "output_type": "stream",
     "text": [
      "6\n",
      "5\n",
      "4\n",
      "3\n",
      "2\n",
      "1\n"
     ]
    }
   ],
   "source": [
    "#3 reverse of n to 1 numbers\n",
    "def rev(n):\n",
    "    for i in range(n,0,-1):\n",
    "          \n",
    "          print(i)\n",
    "\n",
    "n = int(input())\n",
    "rev(n)\n",
    "    "
   ]
  },
  {
   "cell_type": "code",
   "execution_count": null,
   "metadata": {},
   "outputs": [
    {
     "name": "stdout",
     "output_type": "stream",
     "text": [
      "7 The number is odd\n"
     ]
    }
   ],
   "source": [
    "#4 even or odd\n",
    "\n",
    "num = int(input())\n",
    "if num%2 == 0:\n",
    "      print(num, \"The number is even\")\n",
    "else:\n",
    "    print(num , \"The number is odd\")"
   ]
  },
  {
   "cell_type": "code",
   "execution_count": null,
   "metadata": {},
   "outputs": [
    {
     "data": {
      "text/plain": [
       "False"
      ]
     },
     "execution_count": 9,
     "metadata": {},
     "output_type": "execute_result"
    }
   ],
   "source": [
    "#5 print prime numbers 1 to n\n",
    "prime = int(input())\n",
    "def isprime(prime):\n",
    "    \n",
    "    for i in range(2,prime):\n",
    "       if prime%i == 0:\n",
    "           return False\n",
    "       return True\n",
    "\n",
    "isprime(prime)\n",
    "\n",
    "# def printprime(prime):\n",
    "#     for i in range(2,prime): \n",
    "#         if isprime(prime):\n",
    "#             print(i)\n",
    "            \n",
    "# printprime(prime)"
   ]
  },
  {
   "cell_type": "code",
   "execution_count": null,
   "metadata": {},
   "outputs": [
    {
     "name": "stdout",
     "output_type": "stream",
     "text": [
      "17\n"
     ]
    }
   ],
   "source": [
    "#6 sum of primes\n",
    "def primes(number):\n",
    "    if number<2:\n",
    "        return False\n",
    "    for i in range(2,number):\n",
    "        if number%i==0:\n",
    "            return False\n",
    "    return True\n",
    "    \n",
    "\n",
    "def sum_primes(number):\n",
    "  sum_p = 0\n",
    "  for i in range(2,number): \n",
    "      if primes(i):\n",
    "           sum_p += i\n",
    "  return sum_p\n",
    "\n",
    "print(sum_primes(10))\n",
    "         \n",
    "\n"
   ]
  },
  {
   "cell_type": "code",
   "execution_count": null,
   "metadata": {},
   "outputs": [
    {
     "name": "stdout",
     "output_type": "stream",
     "text": [
      "10 * 1 = 10\n",
      "10 * 2 = 20\n",
      "10 * 3 = 30\n",
      "10 * 4 = 40\n",
      "10 * 5 = 50\n",
      "10 * 6 = 60\n",
      "10 * 7 = 70\n",
      "10 * 8 = 80\n",
      "10 * 9 = 90\n",
      "10 * 10 = 100\n"
     ]
    }
   ],
   "source": [
    "#7 multipication table\n",
    "def multiplication_table(mul):\n",
    "    for i in range(1,mul+1):\n",
    "        print( mul ,\"*\",i ,\"=\",mul*i)   \n",
    "multiplication_table(10) "
   ]
  },
  {
   "cell_type": "code",
   "execution_count": null,
   "metadata": {},
   "outputs": [
    {
     "name": "stdout",
     "output_type": "stream",
     "text": [
      "\n",
      "2 * 1 = 2\n",
      "2 * 2 = 4\n",
      "2 * 3 = 6\n",
      "2 * 4 = 8\n",
      "2 * 5 = 10\n",
      "2 * 6 = 12\n",
      "2 * 7 = 14\n",
      "2 * 8 = 16\n",
      "2 * 9 = 18\n",
      "2 * 10 = 20\n",
      "\n",
      "3 * 1 = 3\n",
      "3 * 2 = 6\n",
      "3 * 3 = 9\n",
      "3 * 4 = 12\n",
      "3 * 5 = 15\n",
      "3 * 6 = 18\n",
      "3 * 7 = 21\n",
      "3 * 8 = 24\n",
      "3 * 9 = 27\n",
      "3 * 10 = 30\n",
      "\n",
      "4 * 1 = 4\n",
      "4 * 2 = 8\n",
      "4 * 3 = 12\n",
      "4 * 4 = 16\n",
      "4 * 5 = 20\n",
      "4 * 6 = 24\n",
      "4 * 7 = 28\n",
      "4 * 8 = 32\n",
      "4 * 9 = 36\n",
      "4 * 10 = 40\n"
     ]
    }
   ],
   "source": [
    "def mul_two(start,end):\n",
    "    for i in range(start,end+1):\n",
    "        print( )\n",
    "        for j in range(1,11):\n",
    "            print(i ,\"*\",j ,\"=\",i*j)\n",
    "mul_two(2,4)"
   ]
  },
  {
   "cell_type": "code",
   "execution_count": null,
   "metadata": {},
   "outputs": [],
   "source": []
  },
  {
   "cell_type": "code",
   "execution_count": null,
   "metadata": {},
   "outputs": [
    {
     "name": "stdout",
     "output_type": "stream",
     "text": [
      "1 * 1 = 1\t1 * 2 = 2\t1 * 3 = 3\t1 * 4 = 4\t1 * 5 = 5\t\n",
      "2 * 1 = 2\t2 * 2 = 4\t2 * 3 = 6\t2 * 4 = 8\t2 * 5 = 10\t\n",
      "3 * 1 = 3\t3 * 2 = 6\t3 * 3 = 9\t3 * 4 = 12\t3 * 5 = 15\t\n",
      "4 * 1 = 4\t4 * 2 = 8\t4 * 3 = 12\t4 * 4 = 16\t4 * 5 = 20\t\n",
      "5 * 1 = 5\t5 * 2 = 10\t5 * 3 = 15\t5 * 4 = 20\t5 * 5 = 25\t\n",
      "6 * 1 = 6\t6 * 2 = 12\t6 * 3 = 18\t6 * 4 = 24\t6 * 5 = 30\t\n",
      "7 * 1 = 7\t7 * 2 = 14\t7 * 3 = 21\t7 * 4 = 28\t7 * 5 = 35\t\n",
      "8 * 1 = 8\t8 * 2 = 16\t8 * 3 = 24\t8 * 4 = 32\t8 * 5 = 40\t\n",
      "9 * 1 = 9\t9 * 2 = 18\t9 * 3 = 27\t9 * 4 = 36\t9 * 5 = 45\t\n",
      "10 * 1 = 10\t10 * 2 = 20\t10 * 3 = 30\t10 * 4 = 40\t10 * 5 = 50\t\n"
     ]
    }
   ],
   "source": [
    "def full_tab(A,b):\n",
    "    for i in range(1,A+1):\n",
    "        for j in range(1,b+1):\n",
    "            print(f\"{i} * {j} = {i*j}\", end='\\t')\n",
    "        print()\n",
    "full_tab(10,5)"
   ]
  },
  {
   "cell_type": "code",
   "execution_count": null,
   "metadata": {},
   "outputs": [
    {
     "name": "stdout",
     "output_type": "stream",
     "text": [
      "2\n",
      "3\n",
      "5\n",
      "7\n"
     ]
    }
   ],
   "source": [
    "# 8 prog to display prime numbers from 1 to n \n",
    "def PRIME(numbers):\n",
    "    for num in range(2,numbers):\n",
    "       if  primes(num):\n",
    "            print(num)\n",
    "PRIME(10)\n",
    "    \n"
   ]
  },
  {
   "cell_type": "code",
   "execution_count": null,
   "metadata": {},
   "outputs": [
    {
     "name": "stdout",
     "output_type": "stream",
     "text": [
      "28 Perfect No\n"
     ]
    }
   ],
   "source": [
    "def perfect(per):\n",
    "    Sum_per = 0\n",
    "    for i in range(1,per):\n",
    "        if per%i == 0:\n",
    "            Sum_per += i\n",
    "   \n",
    "    if Sum_per == per:\n",
    "           print(per ,\"Perfect No\")\n",
    "    \n",
    "\n",
    "perfect(28)\n",
    "    \n",
    "            "
   ]
  },
  {
   "cell_type": "code",
   "execution_count": null,
   "metadata": {},
   "outputs": [
    {
     "name": "stdout",
     "output_type": "stream",
     "text": [
      "6 Perfect No\n",
      "28 Perfect No\n"
     ]
    }
   ],
   "source": [
    "#range of perect squares \n",
    "def ran_per(per):\n",
    "    for i in range(1,per+1):    \n",
    "        if perfect(i):\n",
    "              print(i)\n",
    "                \n",
    "ran_per(100)"
   ]
  },
  {
   "cell_type": "code",
   "execution_count": null,
   "metadata": {},
   "outputs": [
    {
     "name": "stdout",
     "output_type": "stream",
     "text": [
      "cBA\n"
     ]
    }
   ],
   "source": [
    "#pallindrome\n",
    "def is_Pal(Pal):\n",
    "    return str(Pal[::-1])\n",
    "\n",
    "print(is_Pal((\"ABc\")))\n"
   ]
  },
  {
   "cell_type": "code",
   "execution_count": null,
   "metadata": {},
   "outputs": [
    {
     "name": "stdout",
     "output_type": "stream",
     "text": [
      "2\n",
      "1 pallindrome\n",
      "2 pallindrome\n",
      "3 pallindrome\n",
      "4 pallindrome\n",
      "5 pallindrome\n",
      "6 pallindrome\n",
      "7 pallindrome\n",
      "8 pallindrome\n",
      "9 pallindrome\n",
      "11 pallindrome\n"
     ]
    }
   ],
   "source": [
    "#pal 2\n",
    "def pal(Pal):\n",
    "    ans = 0\n",
    "    while Pal > 0:\n",
    "        rem = Pal%10\n",
    "        ans = ans *10 + rem\n",
    "        Pal = Pal//10\n",
    "    return ans\n",
    "Pal = 20\n",
    "\n",
    "print(pal(Pal))\n",
    "\n",
    "for i in range(1,Pal):\n",
    "    \n",
    "       if pal(i) == i :\n",
    "          print(i , \"pallindrome\")\n",
    "\n"
   ]
  },
  {
   "cell_type": "code",
   "execution_count": null,
   "metadata": {},
   "outputs": [
    {
     "data": {
      "text/plain": [
       "24"
      ]
     },
     "execution_count": 19,
     "metadata": {},
     "output_type": "execute_result"
    }
   ],
   "source": [
    "#factorial of number\n",
    "def fact(F):\n",
    "    Fa = 1\n",
    "    for i in range(1,F+1):\n",
    "        Fa = Fa*i\n",
    "    return Fa\n",
    "\n",
    "fact(4)"
   ]
  },
  {
   "cell_type": "code",
   "execution_count": null,
   "metadata": {},
   "outputs": [
    {
     "name": "stdout",
     "output_type": "stream",
     "text": [
      "The factorial numbers are 1\n",
      "The factorial numbers are 2\n",
      "The factorial numbers are 6\n",
      "The factorial numbers are 24\n",
      "The factorial numbers are 120\n",
      "The factorial numbers are 720\n"
     ]
    }
   ],
   "source": [
    "#fact range of numbers\n",
    "def fact(F):\n",
    "    Fa = 1\n",
    "    for i in range(1,F+1):\n",
    "        Fa = Fa*i\n",
    "    return Fa\n",
    "\n",
    "fact(4)\n",
    "\n",
    "def fact_range(F):\n",
    "    for i in range(1,F+1):\n",
    "        if fact(i):\n",
    "            print(\"The factorial numbers are\",fact(i))\n",
    "            \n",
    "fact_range(6)"
   ]
  },
  {
   "cell_type": "code",
   "execution_count": null,
   "metadata": {},
   "outputs": [
    {
     "name": "stdout",
     "output_type": "stream",
     "text": [
      "not strong\n"
     ]
    }
   ],
   "source": [
    "\n",
    "#strong \n",
    "def f(F):\n",
    "    org = F\n",
    "    su = 0\n",
    "    temp = 1\n",
    "    while F>0:\n",
    "        rem = F % 10\n",
    "       \n",
    "        for i in range(1,rem+1):\n",
    "           temp *= i\n",
    "        \n",
    "        su+=temp\n",
    "        F = F//10\n",
    "        \n",
    "      \n",
    "    \n",
    "    if su== org:\n",
    "         print(\"strong\")\n",
    "    else :\n",
    "        print(\"not strong\")\n",
    "\n",
    "f(145)\n"
   ]
  },
  {
   "cell_type": "code",
   "execution_count": null,
   "metadata": {},
   "outputs": [
    {
     "data": {
      "text/plain": [
       "55"
      ]
     },
     "execution_count": 22,
     "metadata": {},
     "output_type": "execute_result"
    }
   ],
   "source": [
    "def F(Fib):\n",
    "    a = 0\n",
    "    b=1\n",
    "    for i in range(1, Fib):\n",
    "        c = a+b\n",
    "        a=b\n",
    "        b=c\n",
    "    return c\n",
    "\n",
    "F(10)"
   ]
  },
  {
   "cell_type": "code",
   "execution_count": null,
   "metadata": {},
   "outputs": [
    {
     "data": {
      "text/plain": [
       "55"
      ]
     },
     "execution_count": 23,
     "metadata": {},
     "output_type": "execute_result"
    }
   ],
   "source": [
    "def fib_rec(fr):\n",
    "    if fr == 0 or fr==1:\n",
    "        return fr\n",
    "    return fib_rec(fr-1) + fib_rec(fr-2)\n",
    "\n",
    "\n",
    "fib_rec(10) "
   ]
  },
  {
   "cell_type": "code",
   "execution_count": null,
   "metadata": {},
   "outputs": [
    {
     "name": "stdout",
     "output_type": "stream",
     "text": [
      "1\n",
      "1\n",
      "2\n",
      "3\n",
      "5\n",
      "8\n",
      "13\n",
      "21\n",
      "34\n"
     ]
    }
   ],
   "source": [
    "#range of fib num\n",
    "def fib_range(fs):\n",
    "    for i in range(0,fs):\n",
    "       if fib_rec(i):\n",
    "           print(fib_rec(i))\n",
    "           \n",
    "           \n",
    "fib_range(10)"
   ]
  },
  {
   "cell_type": "code",
   "execution_count": null,
   "metadata": {},
   "outputs": [
    {
     "data": {
      "text/plain": [
       "False"
      ]
     },
     "execution_count": 30,
     "metadata": {},
     "output_type": "execute_result"
    }
   ],
   "source": [
    "#  reverse a number\n",
    "\n",
    "def rev(re):\n",
    "    return int(str(re)[::-1])\n",
    "\n",
    "rev(506)\n",
    "def pall(p):\n",
    "    return str(p) == str(p)[::-1]\n",
    "\n",
    "pall(203)"
   ]
  },
  {
   "cell_type": "code",
   "execution_count": 33,
   "metadata": {},
   "outputs": [],
   "source": [
    "def reverse(r):\n",
    "    sUM = 0\n",
    "    \n",
    "    while r >=0:\n",
    "        rem = r%10\n",
    "        sUM =sUM*10 + rem\n",
    "        r = r//10\n",
    "    return sUM\n",
    "    \n",
    "reverse(203)"
   ]
  },
  {
   "cell_type": "code",
   "execution_count": null,
   "metadata": {},
   "outputs": [],
   "source": [
    "#gcd of 2 numbers\n",
    "def gcd(a, b):\n",
    "    divisor= min(a,b)\n",
    "    dividend = max(a,b)\n",
    "    Temp = dividend\n",
    "    \n",
    "    \n",
    "    "
   ]
  },
  {
   "cell_type": "code",
   "execution_count": 2,
   "metadata": {},
   "outputs": [
    {
     "name": "stdout",
     "output_type": "stream",
     "text": [
      "12\n"
     ]
    }
   ],
   "source": [
    "import math\n",
    "\n",
    "print(math.gcd(60,48))"
   ]
  },
  {
   "cell_type": "code",
   "execution_count": 1,
   "metadata": {},
   "outputs": [
    {
     "data": {
      "text/plain": [
       "5"
      ]
     },
     "execution_count": 1,
     "metadata": {},
     "output_type": "execute_result"
    }
   ],
   "source": [
    "def gcd(a , b):\n",
    "    dividend = max(a,b)\n",
    "    divisor = min(a,b)\n",
    "    temp = dividend\n",
    "    \n",
    "    while dividend%divisor !=0:\n",
    "        divisor = dividend\n",
    "        divisor = temp%divisor \n",
    "        \n",
    "    return divisor\n",
    "\n",
    "a = int(input())\n",
    "b = int(input())\n",
    "\n",
    "gcd(a,b)\n",
    "        "
   ]
  },
  {
   "cell_type": "code",
   "execution_count": 5,
   "metadata": {},
   "outputs": [
    {
     "data": {
      "text/plain": [
       "10"
      ]
     },
     "execution_count": 5,
     "metadata": {},
     "output_type": "execute_result"
    }
   ],
   "source": [
    "def gcd_lcm(a,b):\n",
    "    while b > 0 :\n",
    "        a, b = b, a % b\n",
    "        return a\n",
    "def lcm(a,b):\n",
    "        return abs(a*b)//gcd(a,b)\n",
    "    \n",
    "\n",
    "lcm(10,5)"
   ]
  },
  {
   "cell_type": "code",
   "execution_count": 27,
   "metadata": {},
   "outputs": [
    {
     "name": "stdout",
     "output_type": "stream",
     "text": [
      "103 not primepalindrome num\n"
     ]
    }
   ],
   "source": [
    "def is_prime(ip):\n",
    "    if ip <= 2:\n",
    "        return False\n",
    "    \n",
    "    for i in range(2,ip):\n",
    "        if ip%i == 0:\n",
    "            return False\n",
    "    return True\n",
    "\n",
    "\n",
    "def is_pal(ip):\n",
    "    return str(ip) == str(ip)[::-1]\n",
    "\n",
    "\n",
    "def is_primenpal(ip):\n",
    "  return  is_prime(ip) and is_pal(ip) \n",
    "\n",
    "ip = int(input())  \n",
    "\n",
    "  \n",
    "if is_primenpal(ip):\n",
    "    print(ip,\"is prime pallindrome number\")\n",
    "else:\n",
    "    print(ip,\"not primepalindrome num\")\n",
    "\n",
    "\n",
    "\n"
   ]
  },
  {
   "cell_type": "code",
   "execution_count": 38,
   "metadata": {},
   "outputs": [
    {
     "name": "stdout",
     "output_type": "stream",
     "text": [
      "is armstong\n"
     ]
    }
   ],
   "source": [
    "# armstrong means the numbers which powr of length of number + sum = that number\n",
    "def armstrong(arm):\n",
    "    ans = 0\n",
    "    temp = arm\n",
    "    k = len(str(arm))\n",
    "    for i in range(arm):\n",
    "        rem = arm%10\n",
    "        ans = ans + rem**k\n",
    "        arm = arm//10\n",
    "    return ans == temp      \n",
    " \n",
    " \n",
    "arm = int(input())\n",
    "if armstrong(arm):\n",
    "    print(\"is armstong\")\n",
    "    \n",
    "    \n",
    "    "
   ]
  },
  {
   "cell_type": "code",
   "execution_count": 42,
   "metadata": {},
   "outputs": [
    {
     "name": "stdout",
     "output_type": "stream",
     "text": [
      "0 is armstrong\n",
      "1 is armstrong\n",
      "2 is armstrong\n",
      "3 is armstrong\n",
      "4 is armstrong\n",
      "5 is armstrong\n",
      "6 is armstrong\n",
      "7 is armstrong\n",
      "8 is armstrong\n",
      "9 is armstrong\n",
      "153 is armstrong\n"
     ]
    }
   ],
   "source": [
    "def arm_range(arm):\n",
    "    for i in range(arm):\n",
    "        if armstrong(i):\n",
    "            print(i,\"is armstrong\")\n",
    "        \n",
    "arm_range(300)        "
   ]
  },
  {
   "cell_type": "code",
   "execution_count": 47,
   "metadata": {},
   "outputs": [
    {
     "name": "stdout",
     "output_type": "stream",
     "text": [
      "30 10\n",
      "20 10\n"
     ]
    }
   ],
   "source": [
    "#swap numbers\n",
    "a = 10\n",
    "b = 20\n",
    "\n",
    "temp = a\n",
    "a = b\n",
    "b = temp\n",
    "\n",
    "\n",
    "x = 10\n",
    "y = 30\n",
    "\n",
    "x,y = y,x\n",
    "\n",
    "print(x,y)\n",
    "\n",
    "print(a,b)\n"
   ]
  },
  {
   "cell_type": "code",
   "execution_count": 48,
   "metadata": {},
   "outputs": [
    {
     "name": "stdout",
     "output_type": "stream",
     "text": [
      "40 20\n"
     ]
    }
   ],
   "source": [
    "#swapping without 3rd var\n",
    " \n",
    "a = 20\n",
    "b = 40\n",
    "\n",
    "a = a + b\n",
    "b = a - b\n",
    "a = a - b\n",
    "\n",
    "print(a,b)"
   ]
  },
  {
   "cell_type": "code",
   "execution_count": 10,
   "metadata": {},
   "outputs": [
    {
     "name": "stdout",
     "output_type": "stream",
     "text": [
      "Subsequences of the string are:\n",
      "saps\n"
     ]
    }
   ],
   "source": [
    "def print_subsequences(s, current=\"\"):\n",
    "    if len(s) == 0:\n",
    "        print(current)\n",
    "        return\n",
    "    # Including the first character\n",
    "    print_subsequences(s[1:], current + s[0])\n",
    "    # Excluding the first character\n",
    "   # print_subsequences(s[1:], current)\n",
    "\n",
    "# Example usage\n",
    "s = \"saps\"\n",
    "print(\"Subsequences of the string are:\")\n",
    "print_subsequences(s)\n"
   ]
  },
  {
   "cell_type": "code",
   "execution_count": null,
   "metadata": {},
   "outputs": [],
   "source": []
  }
 ],
 "metadata": {
  "kernelspec": {
   "display_name": "base",
   "language": "python",
   "name": "python3"
  },
  "language_info": {
   "codemirror_mode": {
    "name": "ipython",
    "version": 3
   },
   "file_extension": ".py",
   "mimetype": "text/x-python",
   "name": "python",
   "nbconvert_exporter": "python",
   "pygments_lexer": "ipython3",
   "version": "3.11.5"
  }
 },
 "nbformat": 4,
 "nbformat_minor": 2
}
