{
 "cells": [
  {
   "cell_type": "code",
   "execution_count": 3,
   "metadata": {},
   "outputs": [
    {
     "name": "stdout",
     "output_type": "stream",
     "text": [
      "The strings are not anagrams.\n"
     ]
    }
   ],
   "source": [
    "#Write a program to find weather a string is ANAGRAM or not? \n",
    "def anagrams(s1,s2):\n",
    "    return sorted(s1) == sorted(s2)\n",
    "\n",
    "s1 = 'abc'\n",
    "s2 = 'cbb'\n",
    "\n",
    "if anagrams(s1,s2):\n",
    "    print(\"The strings are anagrams.\")\n",
    "else:\n",
    "    print(\"The strings are not anagrams.\")"
   ]
  },
  {
   "cell_type": "code",
   "execution_count": 17,
   "metadata": {},
   "outputs": [],
   "source": [
    "#using set\n",
    "s1 = ' '.join(map(str,input().split()))\n",
    "s2 = ' '.join(map(str,input().split()))\n",
    "\n",
    "def anagram_set(s1,s2):\n",
    "    str1 = set(s1.replace(\" \",\"\").lower())\n",
    "    str2 = set(s2.replace(\" \",\"\").lower())\n",
    "    \n",
    "    return str1 == str2\n",
    "\n",
    "\n",
    "anagram_set(s1,s2)"
   ]
  },
  {
   "cell_type": "code",
   "execution_count": null,
   "metadata": {},
   "outputs": [],
   "source": [
    "#panagram\n"
   ]
  }
 ],
 "metadata": {
  "kernelspec": {
   "display_name": "base",
   "language": "python",
   "name": "python3"
  },
  "language_info": {
   "codemirror_mode": {
    "name": "ipython",
    "version": 3
   },
   "file_extension": ".py",
   "mimetype": "text/x-python",
   "name": "python",
   "nbconvert_exporter": "python",
   "pygments_lexer": "ipython3",
   "version": "3.11.5"
  }
 },
 "nbformat": 4,
 "nbformat_minor": 2
}
