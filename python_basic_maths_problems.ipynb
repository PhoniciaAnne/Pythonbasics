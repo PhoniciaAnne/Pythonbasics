{
  "nbformat": 4,
  "nbformat_minor": 0,
  "metadata": {
    "colab": {
      "provenance": [],
      "authorship_tag": "ABX9TyMLPkQ7J36pr0MwSvZnyhbn",
      "include_colab_link": true
    },
    "kernelspec": {
      "name": "python3",
      "display_name": "Python 3"
    },
    "language_info": {
      "name": "python"
    }
  },
  "cells": [
    {
      "cell_type": "markdown",
      "metadata": {
        "id": "view-in-github",
        "colab_type": "text"
      },
      "source": [
        "<a href=\"https://colab.research.google.com/github/PhoniciaAnne/Pythonbasics/blob/main/python_basic_maths_problems.ipynb\" target=\"_parent\"><img src=\"https://colab.research.google.com/assets/colab-badge.svg\" alt=\"Open In Colab\"/></a>"
      ]
    },
    {
      "cell_type": "code",
      "execution_count": null,
      "metadata": {
        "id": "sGRnpwwlIOn_",
        "colab": {
          "base_uri": "https://localhost:8080/"
        },
        "outputId": "4e0bc9d3-8fd6-4326-dca8-6021c31f5af4"
      },
      "outputs": [
        {
          "output_type": "stream",
          "name": "stdout",
          "text": [
            "123\n",
            "3\n"
          ]
        }
      ],
      "source": [
        "\n",
        "#count numbers in variable\n",
        "def countnum(num):\n",
        "  return len(str(num))\n",
        "\n",
        "num = int(input())\n",
        "ans = countnum(num)\n",
        "print(ans)"
      ]
    },
    {
      "cell_type": "code",
      "source": [
        "# another method\n",
        "\n",
        "def anothercount(num):\n",
        "  cnt=0\n",
        "  while num>0:\n",
        "     num = num//10\n",
        "     cnt+=1\n",
        "  return cnt\n",
        "num = int(input())\n",
        "ans = anothercount(num)\n",
        "print(ans)"
      ],
      "metadata": {
        "id": "UNYe9ALfIkK_",
        "colab": {
          "base_uri": "https://localhost:8080/"
        },
        "outputId": "56a98915-0a70-4dc8-8c2e-998e734a4da9"
      },
      "execution_count": null,
      "outputs": [
        {
          "output_type": "stream",
          "name": "stdout",
          "text": [
            "345\n",
            "3\n"
          ]
        }
      ]
    },
    {
      "cell_type": "code",
      "source": [
        "# reverse a number\n",
        "def reverse(num):\n",
        "  ans = 0\n",
        "  while num>0:\n",
        "    rem = num%10\n",
        "    ans = ans*10 +rem\n",
        "    num = num//10\n",
        "  return ans\n",
        "\n",
        "num = int(input())\n",
        "an = reverse(num)\n",
        "print(an)"
      ],
      "metadata": {
        "id": "3LrhbmYXJwTw",
        "colab": {
          "base_uri": "https://localhost:8080/"
        },
        "outputId": "6107699a-7ad9-4733-a065-4cadc0cc605d"
      },
      "execution_count": null,
      "outputs": [
        {
          "output_type": "stream",
          "name": "stdout",
          "text": [
            "676\n",
            "676\n"
          ]
        }
      ]
    },
    {
      "cell_type": "code",
      "source": [
        "#pALindrome\n",
        "def pal(num):\n",
        "   return  str(num[::-1])\n",
        "\n",
        "num = input()\n",
        "a = pal(num)\n",
        "\n",
        "print(a)"
      ],
      "metadata": {
        "id": "wdYp0wepLuya",
        "colab": {
          "base_uri": "https://localhost:8080/"
        },
        "outputId": "324541c2-dbf6-4f8e-b8f6-9ffda2ea33d2"
      },
      "execution_count": null,
      "outputs": [
        {
          "output_type": "stream",
          "name": "stdout",
          "text": [
            "453\n",
            "354\n"
          ]
        }
      ]
    },
    {
      "cell_type": "code",
      "source": [
        "# another method for palindrom\n",
        "def Pal(num):\n",
        "  ans =0\n",
        "  while num>0:\n",
        "    rem = num%10\n",
        "    ans = ans *10+rem\n",
        "    num = num//10\n",
        "  return ans\n",
        "\n",
        "\n",
        "def isPal(num):\n",
        "   if  num == Pal(num):\n",
        "        print(\"y\")\n",
        "   else:\n",
        "    print(\"no\")\n",
        "\n",
        "num = int(input())\n",
        "ans = isPal(num)\n",
        "print(ans)\n",
        "\n",
        "# Your approach for checking if a number is a palindrome using mathematical operations is good. The issue with the code is that isPal prints \"y\" or \"no\" but doesn't return a value, which results in None being printed when you print ans.\n",
        "\n",
        "# To fix this, you can adjust isPal to return the string \"y\" or \"no\" and then print the result after"
      ],
      "metadata": {
        "id": "syXWCr33MZb6",
        "colab": {
          "base_uri": "https://localhost:8080/"
        },
        "outputId": "f6451ef4-3466-4333-b15e-a8c07c1f725d"
      },
      "execution_count": null,
      "outputs": [
        {
          "output_type": "stream",
          "name": "stdout",
          "text": [
            "3453\n",
            "no\n",
            "None\n"
          ]
        }
      ]
    },
    {
      "cell_type": "code",
      "source": [
        "def gcd(a,b):\n",
        "  dividend = max(a,b)\n",
        "  divisor = min(a,b)\n",
        "  temp = dividend\n",
        "\n",
        "  while dividend%divisor !=0:\n",
        "    divisor = dividend\n",
        "    divisor = temp%divisor\n",
        "  return divisor\n",
        "ans = gcd(10,5)\n",
        "print(ans)\n",
        "\n"
      ],
      "metadata": {
        "id": "uM5wSsZdOytb",
        "colab": {
          "base_uri": "https://localhost:8080/"
        },
        "outputId": "1ae27bf0-86b9-437e-c955-0d75c5960a9b"
      },
      "execution_count": null,
      "outputs": [
        {
          "output_type": "stream",
          "name": "stdout",
          "text": [
            "5\n"
          ]
        }
      ]
    },
    {
      "cell_type": "code",
      "source": [
        "# Armstrong\n",
        "def armstrong(num):\n",
        "  ans = 0\n",
        "  temp = num\n",
        "  k = len(str(num))\n",
        "  while num>0:\n",
        "    rem = num%10\n",
        "    ans = ans+rem**k\n",
        "    num = num//10\n",
        "  return ans == temp\n",
        "ans = armstrong(153)\n",
        "print(ans)"
      ],
      "metadata": {
        "id": "Fsjr4Z_iQxJZ",
        "colab": {
          "base_uri": "https://localhost:8080/"
        },
        "outputId": "96be112a-9443-4a86-8924-228f5b78c780"
      },
      "execution_count": null,
      "outputs": [
        {
          "output_type": "stream",
          "name": "stdout",
          "text": [
            "True\n"
          ]
        }
      ]
    },
    {
      "cell_type": "code",
      "source": [
        "# numdivisor\n",
        "def numdivisor(num):\n",
        "  for i in range(1,num+1):\n",
        "    if num%i==0:\n",
        "      print(i)\n",
        "\n",
        "numdivisor(10)\n"
      ],
      "metadata": {
        "id": "zsCjBzNBR0Zd",
        "colab": {
          "base_uri": "https://localhost:8080/"
        },
        "outputId": "cb1a19fe-7446-48f3-bbda-07907d7397dc"
      },
      "execution_count": null,
      "outputs": [
        {
          "output_type": "stream",
          "name": "stdout",
          "text": [
            "1\n",
            "2\n",
            "5\n",
            "10\n"
          ]
        }
      ]
    },
    {
      "cell_type": "code",
      "source": [
        "# prime\n",
        "def prime(num):\n",
        "  for i in range(2,num):\n",
        "    if num%i==0:\n",
        "       return False\n",
        "  return True\n",
        "prime(10)"
      ],
      "metadata": {
        "id": "s7rg3sexUFHw",
        "colab": {
          "base_uri": "https://localhost:8080/"
        },
        "outputId": "740c4546-8825-4e41-8450-e5dd349802a4"
      },
      "execution_count": null,
      "outputs": [
        {
          "output_type": "execute_result",
          "data": {
            "text/plain": [
              "False"
            ]
          },
          "metadata": {},
          "execution_count": 9
        }
      ]
    },
    {
      "cell_type": "code",
      "source": [
        "def isPrime(num):\n",
        "  i = 2\n",
        "  while  i*i <=num:\n",
        "    if num%i==0:\n",
        "      return False\n",
        "    i+=1\n",
        "  return True\n",
        "\n",
        "isPrime(14)\n"
      ],
      "metadata": {
        "id": "q71TddGfY03u",
        "colab": {
          "base_uri": "https://localhost:8080/"
        },
        "outputId": "6a07a0ac-4bfd-4872-823e-c8ce4e6ec3f9"
      },
      "execution_count": null,
      "outputs": [
        {
          "output_type": "execute_result",
          "data": {
            "text/plain": [
              "False"
            ]
          },
          "metadata": {},
          "execution_count": 10
        }
      ]
    },
    {
      "cell_type": "code",
      "source": [
        " # countnum\n",
        "import math\n",
        "def countLog(num):\n",
        "   return math.floor(math.log10(num))+1\n",
        "\n",
        "num = int(input())\n",
        "ans = countLog(num)\n",
        "print(ans)\n"
      ],
      "metadata": {
        "id": "tBQhLdA9bEyJ",
        "colab": {
          "base_uri": "https://localhost:8080/"
        },
        "outputId": "2ba44f5f-3e11-4635-f3c7-e89431d8e754"
      },
      "execution_count": null,
      "outputs": [
        {
          "output_type": "stream",
          "name": "stdout",
          "text": [
            "3456\n",
            "4\n"
          ]
        }
      ]
    },
    {
      "cell_type": "code",
      "source": [
        "#seive of eratosthenes\n",
        "# prime\n",
        "n= int(input())\n",
        "def isPrime(num):\n",
        "  i=2\n",
        "  while i*i<=num:\n",
        "     if num%i == 0:\n",
        "       return False\n",
        "     i+=1\n",
        "  return True\n",
        "\n",
        "ans = isPrime(12)\n",
        "print(ans)"
      ],
      "metadata": {
        "id": "MGQOL2UWzFbw",
        "colab": {
          "base_uri": "https://localhost:8080/"
        },
        "outputId": "7a6be82f-8640-4426-e46f-805392a77398"
      },
      "execution_count": null,
      "outputs": [
        {
          "output_type": "stream",
          "name": "stdout",
          "text": [
            "23\n",
            "False\n"
          ]
        }
      ]
    },
    {
      "cell_type": "code",
      "source": [
        "# series of num is prime or not\n",
        "series = list(map(int,input().split()))\n",
        "\n",
        "def isPrime(num):\n",
        "  i=2\n",
        "  while i*i<=n:\n",
        "    if num%i==0:\n",
        "      return False\n",
        "    i+=1\n",
        "  return True\n",
        "\n",
        "\n",
        "for item in series:\n",
        "  ans = isPrime(item)\n",
        "  print(item,ans)\n"
      ],
      "metadata": {
        "id": "2SpPZI4V9d2i",
        "colab": {
          "base_uri": "https://localhost:8080/"
        },
        "outputId": "360439c0-16fa-49ef-8f3a-733ae6a97049"
      },
      "execution_count": null,
      "outputs": [
        {
          "output_type": "stream",
          "name": "stdout",
          "text": [
            "19\n",
            "19 True\n"
          ]
        }
      ]
    },
    {
      "cell_type": "code",
      "source": [
        "series = list(map(int,input().split()))\n",
        "def Prime(num):\n",
        "  i = 2\n",
        "  while i*i<=num:\n",
        "    if num%i==0:\n",
        "      return False\n",
        "    i+=1\n",
        "  return True\n",
        "\n",
        "k=20\n",
        "arr = [1]*(k+1)\n",
        "arr[0]=arr[1]=0\n",
        "\n",
        "for i in range(2,k+1):\n",
        "  if Prime(i):\n",
        "    arr[i]=1\n",
        "  else:\n",
        "    arr[i]=0\n",
        "\n",
        "print(arr)\n",
        "\n",
        "\n",
        "for item in series:\n",
        "  ans = arr[item]\n",
        "  print(item,ans)"
      ],
      "metadata": {
        "id": "xu2hSOAe_wHl",
        "colab": {
          "base_uri": "https://localhost:8080/"
        },
        "outputId": "ffacff92-76df-4805-fea5-761e86da20a6"
      },
      "execution_count": null,
      "outputs": [
        {
          "output_type": "stream",
          "name": "stdout",
          "text": [
            "14\n",
            "[0, 0, 1, 1, 0, 1, 0, 1, 0, 0, 0, 1, 0, 1, 0, 0, 0, 1, 0, 1, 0]\n",
            "14 0\n"
          ]
        }
      ]
    },
    {
      "cell_type": "code",
      "source": [
        "serie = list(map(int,input().split()))\n",
        "def Primes(num):\n",
        "  i=2\n",
        "  while i*i<=num:\n",
        "    if num%i==0:\n",
        "      return False\n",
        "      i+=1\n",
        "\n",
        "  return True\n",
        "\n",
        "k = 20\n",
        "ar = [1]*(k+1)\n",
        "ar[0] =ar[1]= 0\n",
        "\n",
        "for i in range(2,k+1):\n",
        "  if Primes(i):\n",
        "     ar[i]=1\n",
        "  else:\n",
        "    ar[i]=0\n",
        "\n",
        "\n",
        "for i in range(2,k+1):\n",
        "  if ar[i]==1:\n",
        "     j=i*i\n",
        "     while j <=k:\n",
        "          ar[j] = 0\n",
        "          j=j+i\n",
        "print(ar)\n",
        "\n",
        "\n",
        "for item in serie:\n",
        "  ans = ar[item]\n",
        "  print(item,ans)\n",
        "\n",
        "\n",
        "\n",
        "\n"
      ],
      "metadata": {
        "id": "BpUNX2XpR7xw",
        "colab": {
          "base_uri": "https://localhost:8080/"
        },
        "outputId": "e643fcb1-5d29-425a-f163-d6ae87c83c43"
      },
      "execution_count": null,
      "outputs": [
        {
          "name": "stdout",
          "output_type": "stream",
          "text": [
            "2 3\n"
          ]
        }
      ]
    },
    {
      "cell_type": "code",
      "source": [
        "\n",
        "serie = list(map(int,input().split()))\n",
        "def Primes(num):\n",
        "  i=2\n",
        "  while i*i<=num:\n",
        "    if num%i==0:\n",
        "      return False\n",
        "      i+=1\n",
        "\n",
        "  return True\n",
        "\n",
        "k = 20\n",
        "ar = [1]*(k+1)\n",
        "prefix = [0]*(k+1)\n",
        "\n",
        "ar[0] =ar[1]= 0\n",
        "for i in range(2,k+1):\n",
        "  if Primes(i):\n",
        "     ar[i]=1\n",
        "  else:\n",
        "    ar[i]=0\n",
        "\n",
        "#seive of eratosthenes\n",
        "for i in range(2,k+1):\n",
        "  if ar[i]==1:\n",
        "     j=i*i\n",
        "     while j <=k:\n",
        "          ar[j] = 0\n",
        "          j=j+i\n",
        "for i in range(2,k+1):\n",
        "  prefix[i] = ar[i]+prefix[i-1]\n",
        "\n",
        "print(prefix[7])\n",
        "\n",
        "\n",
        "# for item in serie:\n",
        "#   ans = ar[item]\n",
        "#   print(item,ans)\n",
        "\n",
        "\n",
        "\n",
        "\n"
      ],
      "metadata": {
        "id": "uldWTP7PzldB"
      },
      "execution_count": null,
      "outputs": []
    }
  ]
}