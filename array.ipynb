{
 "cells": [
  {
   "cell_type": "code",
   "execution_count": null,
   "metadata": {},
   "outputs": [],
   "source": [
    "# i = integer - 2\n",
    "# f = float -4\n",
    "# d = float - 8\n",
    "# u = unicode character 2"
   ]
  },
  {
   "cell_type": "code",
   "execution_count": 1,
   "metadata": {},
   "outputs": [
    {
     "name": "stdout",
     "output_type": "stream",
     "text": [
      "array('i', [1, 2, 4, 3, 5])\n",
      "i\n"
     ]
    },
    {
     "data": {
      "text/plain": [
       "5"
      ]
     },
     "execution_count": 1,
     "metadata": {},
     "output_type": "execute_result"
    }
   ],
   "source": [
    "#creating array\n",
    "import array as arr\n",
    "arr =arr.array('i',[1,2,4,3,5])\n",
    "print(arr)\n",
    "print(arr.typecode)\n",
    "len(arr)"
   ]
  },
  {
   "cell_type": "code",
   "execution_count": 2,
   "metadata": {},
   "outputs": [
    {
     "name": "stdout",
     "output_type": "stream",
     "text": [
      "1 2 4 3 5 "
     ]
    }
   ],
   "source": [
    "for i in range(0,len(arr)):\n",
    "    print(arr[i],end = ' ')"
   ]
  },
  {
   "cell_type": "code",
   "execution_count": 3,
   "metadata": {},
   "outputs": [
    {
     "name": "stdout",
     "output_type": "stream",
     "text": [
      "1 4 7 10 13 16 19 22 25 28 31 34 37 40 43 46 49 "
     ]
    },
    {
     "data": {
      "text/plain": [
       "37"
      ]
     },
     "execution_count": 3,
     "metadata": {},
     "output_type": "execute_result"
    }
   ],
   "source": [
    "#indexing\n",
    "import array as arr\n",
    "x = list(range(1,50,3))\n",
    "new_array = arr.array('i',x)\n",
    "\n",
    "#printing the array\n",
    "\n",
    "for i in range(0,len(x)):\n",
    "    print(new_array[i],end=' ')\n",
    "    \n",
    "#accessing the element\n",
    "new_array[12] "
   ]
  },
  {
   "cell_type": "code",
   "execution_count": 4,
   "metadata": {},
   "outputs": [
    {
     "name": "stdout",
     "output_type": "stream",
     "text": [
      "1 11 4 7 10 13 16 19 22 25 28 31 34 37 40 43 46 49 1 11 4 7 10 13 16 19 22 25 28 31 34 37 40 43 46 49 31 "
     ]
    }
   ],
   "source": [
    "#adding ele in array\n",
    "#insert add at specific element\n",
    "new_array.insert(1,11)\n",
    "\n",
    "for i in range(0,len(new_array)):\n",
    "         print(new_array[i],end = \" \")\n",
    "         \n",
    "#append add at last\n",
    "new_array.append(31)\n",
    "\n",
    "for i in range(0,len(new_array)):\n",
    "    print(new_array[i] , end=' ')"
   ]
  },
  {
   "cell_type": "code",
   "execution_count": 11,
   "metadata": {},
   "outputs": [
    {
     "name": "stdout",
     "output_type": "stream",
     "text": [
      "2 3 3 57 8 4 5 7 \n",
      "\n",
      "2 3 57 8 4 5 7 \n",
      "\n",
      "2 3 57 8 4 7 "
     ]
    }
   ],
   "source": [
    "#updating ele\n",
    "import array as arr\n",
    "arr = arr.array('i',[2,3,4,57,8,4,5,7])\n",
    "arr[2] = 3\n",
    "for i in range(0,len(arr)):\n",
    "    print(arr[i],end = ' ')\n",
    "print('\\n')\n",
    "#deleting ele - in index - pop\n",
    "arr.pop(2)\n",
    "\n",
    "for i in range(0,len(arr)):\n",
    "    print(arr[i],end = ' ')\n",
    "    \n",
    "print('\\n')\n",
    "#deleting ele - in value - remove\n",
    "arr.remove(5)\n",
    "\n",
    "for i in range(0,len(arr)):\n",
    "    print(arr[i],end = ' ')"
   ]
  },
  {
   "cell_type": "code",
   "execution_count": 24,
   "metadata": {},
   "outputs": [
    {
     "name": "stdout",
     "output_type": "stream",
     "text": [
      "array('i', [0, 3, 6, 9, 12, 15, 18, 21, 24, 27, 30, 33, 36, 39, 42, 45, 48, 51, 54, 57, 60, 63, 66, 69, 72, 75, 78, 81, 84, 87, 90, 93, 96, 99])\n",
      "3 6 9 12 15 18 21 24 27 30 33 36 39 42 45 48 51 54 57 60 63 66 69 72 75 78 81 84 87 90 93 96 99 \n",
      "\n",
      "30 33 36 39 42 45 48 51 54 57 \n",
      "\n",
      "30 33 36 39 42 45 48 51 54 57 60 63 66 69 \n",
      "\n",
      "99 96 93 90 87 84 81 78 75 72 69 66 63 60 57 54 51 48 45 42 39 36 33 30 27 24 21 18 15 12 9 6 3 0 "
     ]
    }
   ],
   "source": [
    "#slicing - process of getting seq from ds having starting index and ending index\n",
    "import array as arr\n",
    "x =list(range(0,100,3))\n",
    "arr = arr.array('i',x) \n",
    "print(arr)\n",
    "for i in range(1,len(arr)):\n",
    "    print(arr[i],end = ' ')\n",
    "print('\\n')\n",
    "Arr = arr[10:20]\n",
    "for i in range(len(Arr)):\n",
    "    print(Arr[i],end=' ')\n",
    "#negative index\n",
    "print('\\n')\n",
    "ARR = arr[10:-10]\n",
    "for i in range(len(ARR)):\n",
    "    print(ARR[i],end=' ')\n",
    "#reverse of numb\n",
    "print('\\n')\n",
    "ARr = arr[::-1]\n",
    "for i in range(len(ARr)):\n",
    "    print(ARr[i],end=' ')\n",
    "    \n"
   ]
  },
  {
   "cell_type": "code",
   "execution_count": 31,
   "metadata": {},
   "outputs": [
    {
     "name": "stdout",
     "output_type": "stream",
     "text": [
      "array('i', [0, 3, 6, 9, 12, 15, 18, 21, 24, 27, 30, 33, 36, 39, 42, 45, 48, 51, 54, 57, 60, 63, 66, 69, 72, 75, 78, 81, 84, 87, 90, 93, 96, 99])\n",
      "0 3 6 9 12 15 18 21 24 27 \n",
      "\n",
      "3\n"
     ]
    }
   ],
   "source": [
    "#searching operation in  array\n",
    "print(arr)\n",
    "for i in range(0,len(arr[0:10])):\n",
    "    print(arr[i],end = ' ')\n",
    "print('\\n')\n",
    "# search number 9 \n",
    "index = arr.index(9)\n",
    "print(index)"
   ]
  },
  {
   "cell_type": "code",
   "execution_count": 49,
   "metadata": {},
   "outputs": [
    {
     "name": "stdout",
     "output_type": "stream",
     "text": [
      "array('i', [9, 34, 54, 67, 67, 90])\n"
     ]
    }
   ],
   "source": [
    "#sorting operations\n",
    "import array as arr\n",
    "#print(arr)\n",
    "#new_arr = arr.tolist()\n",
    "#new_arr.sort()\n",
    "#print(new_arr)\n",
    "ar = arr.array('i',[9,90,67,54,34,67])\n",
    "for i in range(0,len(ar)):\n",
    "    for j in range(i+1,len(ar)):\n",
    "        if ar[i] >ar[j]:\n",
    "            temp = ar[i]\n",
    "            ar[i] = ar[j]\n",
    "            ar[j] = temp\n",
    "            \n",
    "print(ar)"
   ]
  },
  {
   "cell_type": "code",
   "execution_count": 84,
   "metadata": {},
   "outputs": [
    {
     "name": "stdout",
     "output_type": "stream",
     "text": [
      "[5, 6, 7, 8]\n",
      "[5, 6, 7, 8]\n",
      "[5, 6, 4, 7, 8]\n"
     ]
    },
    {
     "data": {
      "text/plain": [
       "[5, 4, 7, 8]"
      ]
     },
     "execution_count": 84,
     "metadata": {},
     "output_type": "execute_result"
    }
   ],
   "source": [
    "#Write a program to INSERT the ELEMENTS in an Array? \n",
    "def insert_ele():\n",
    "    arr = []\n",
    "    n = int(input(\"Enter the number of elements: \"))\n",
    "    \n",
    "    for i in range(n):\n",
    "        element = int(input())\n",
    "        arr.append(element)\n",
    "    print(arr)\n",
    "    return arr\n",
    "\n",
    "#insert ele at specified index\n",
    "def insert_T(arr,pos,element):\n",
    "    arr.insert(pos,element) \n",
    "    return arr\n",
    "\n",
    "    \n",
    "arr = insert_ele()\n",
    "print(arr)\n",
    "\n",
    "\n",
    "\n",
    "up = insert_T(arr,2,4)\n",
    "print(up)\n",
    "\n",
    "#delete ele at index\n",
    "def delete_ele(arr,pos):\n",
    "    up.pop(pos)\n",
    "    return up\n",
    "\n",
    "\n",
    "delete_ele(up,1)\n",
    "\n",
    "#search an element\n"
   ]
  },
  {
   "cell_type": "code",
   "execution_count": 86,
   "metadata": {},
   "outputs": [
    {
     "name": "stdout",
     "output_type": "stream",
     "text": [
      "[2, 4, 6, 7, 8]\n",
      "[2, 4, 6, 4, 7, 8]\n"
     ]
    },
    {
     "data": {
      "text/plain": [
       "[2, 4, 4, 7, 8]"
      ]
     },
     "execution_count": 86,
     "metadata": {},
     "output_type": "execute_result"
    }
   ],
   "source": [
    "def insertfun():\n",
    "    arr = []\n",
    "    \n",
    "    \n",
    "    a = list(map(int,input().split()))\n",
    "    arr.extend(a)\n",
    "    print(arr) \n",
    "    return arr\n",
    "\n",
    "def insert_T(arr,pos,element):\n",
    "    arr.insert(pos,element) \n",
    "    return arr\n",
    "\n",
    "arr = insertfun()\n",
    "\n",
    "\n",
    "b = insert_T(arr,3,4)\n",
    "\n",
    "print(b)\n",
    "\n",
    "\n",
    "def delete_ele(arr,pos):\n",
    "    arr.pop(pos)\n",
    "    return arr\n",
    "\n",
    "delete_ele(arr,2)"
   ]
  },
  {
   "cell_type": "code",
   "execution_count": 105,
   "metadata": {},
   "outputs": [
    {
     "name": "stdout",
     "output_type": "stream",
     "text": [
      "[2, 4, 4, 7, 8]\n"
     ]
    },
    {
     "data": {
      "text/plain": [
       "7"
      ]
     },
     "execution_count": 105,
     "metadata": {},
     "output_type": "execute_result"
    }
   ],
   "source": [
    " # element  index searching\n",
    "print(arr)\n",
    "def search_element_index(arr,element):\n",
    "    if element in arr:\n",
    "        index = arr.index(element)\n",
    "        return index\n",
    "    \n",
    "    \n",
    "search_element_index(arr,4)\n",
    "\n",
    "\n",
    "#element searching\n",
    "def search_element(target , arr):\n",
    "    \n",
    "    for ele in arr:\n",
    "        if ele  == target:\n",
    "            return ele\n",
    "    return -1\n",
    "target = 7\n",
    "search_element(target,arr)"
   ]
  },
  {
   "cell_type": "code",
   "execution_count": 111,
   "metadata": {},
   "outputs": [
    {
     "name": "stdout",
     "output_type": "stream",
     "text": [
      "98 2\n",
      "(98, 2)\n"
     ]
    }
   ],
   "source": [
    "#find biggest and smallest ele\n",
    "import array as arr\n",
    "arr = arr.array('i',[2,5,7,8,98,65,43])\n",
    "\n",
    "mini = min(arr)\n",
    "maxi = max(arr)\n",
    "\n",
    "print(maxi,mini)\n",
    "\n",
    "\n",
    "def max_min():\n",
    "    max_ele = arr[0]\n",
    "    min_ele = arr[0]\n",
    "    \n",
    "    for i in arr:\n",
    "        if i > max_ele:\n",
    "            max_ele = i\n",
    "        if i < min_ele:\n",
    "            min_ele = i\n",
    "    return max_ele , min_ele \n",
    "elements =max_min()      \n",
    "print(elements)     "
   ]
  },
  {
   "cell_type": "code",
   "execution_count": 19,
   "metadata": {},
   "outputs": [
    {
     "name": "stdout",
     "output_type": "stream",
     "text": [
      "[43, 9, 8, 7, 6, 3]\n"
     ]
    },
    {
     "data": {
      "text/plain": [
       "(43, 9)"
      ]
     },
     "execution_count": 19,
     "metadata": {},
     "output_type": "execute_result"
    }
   ],
   "source": [
    "#   second biggest  element\n",
    "import array as arr\n",
    "arr = arr.array('i',[6,7,8,9,43,3])\n",
    "arrays = arr.tolist()\n",
    "arrays.sort(reverse = True)\n",
    "print(arrays)\n",
    "#print(arrays[1])\n",
    "\n",
    "\n",
    "def second_max(arr):\n",
    "    first = second =float('-inf')\n",
    " \n",
    "    for num in arr:\n",
    "        if num > first:\n",
    "            second = first\n",
    "            first = num\n",
    "        elif num > second and num != first:\n",
    "            second = num\n",
    "    return first,second\n",
    "        \n",
    "\n",
    "second_max(arr)\n",
    "\n",
    "\n"
   ]
  },
  {
   "cell_type": "code",
   "execution_count": 34,
   "metadata": {},
   "outputs": [
    {
     "data": {
      "text/plain": [
       "5"
      ]
     },
     "execution_count": 34,
     "metadata": {},
     "output_type": "execute_result"
    }
   ],
   "source": [
    "#second occurance of element\n",
    "arr  = [1, 2, 3, 4, 5, 2,9]\n",
    "target = 2\n",
    "def second_occurance(arr,target):\n",
    "    count = 0\n",
    "    for i in range(len(arr)):\n",
    "        if arr[i] == target:\n",
    "            count+=1\n",
    "            if count == 2 :\n",
    "                return  i\n",
    "            \n",
    "    return -1\n",
    "\n",
    "second_occurance(arr,target)\n",
    "    "
   ]
  },
  {
   "cell_type": "code",
   "execution_count": 38,
   "metadata": {},
   "outputs": [
    {
     "name": "stdout",
     "output_type": "stream",
     "text": [
      "[1, 2, 3, 4, 5, 2, 9]\n",
      "1 5 "
     ]
    },
    {
     "data": {
      "text/plain": [
       "2"
      ]
     },
     "execution_count": 38,
     "metadata": {},
     "output_type": "execute_result"
    }
   ],
   "source": [
    "#occurance of ele at which position\n",
    "print(arr)\n",
    "ele = 2\n",
    "def find_occurrence(arr, ele):\n",
    "    for i in range(len(arr)):\n",
    "        if arr[i] == ele:\n",
    "           print(i,end = ' ')\n",
    "\n",
    "\n",
    "def count_occurance(arr,ele):\n",
    "    count = 0\n",
    "    for i in range(len(arr)):\n",
    "        if arr[i] == ele:\n",
    "            count += 1\n",
    "    return count\n",
    "        \n",
    "           \n",
    "           \n",
    "           \n",
    "           \n",
    "find_occurrence(arr,ele)\n",
    "count_occurance(arr,ele)"
   ]
  },
  {
   "cell_type": "code",
   "execution_count": 39,
   "metadata": {},
   "outputs": [
    {
     "name": "stdout",
     "output_type": "stream",
     "text": [
      "1 3 4 6 11 2 5 7 8 9 10 \n",
      "\n",
      "<class 'array.array'>\n",
      "array('i', [1, 2, 3, 4, 5, 6, 7, 8, 9, 10, 11])\n"
     ]
    }
   ],
   "source": [
    "#display missing ele in array\n",
    "import array as arr\n",
    "arr = arr.array('i',[1,3,4,6,11])\n",
    "def missing_elements(arr):\n",
    "    \n",
    "    missing = []\n",
    "    for i in range(arr[0],arr[-1]+1): \n",
    "        if  i not in arr:\n",
    "            arr.append(i)\n",
    "    return arr\n",
    "\n",
    "    \n",
    "\n",
    "missing_elements(arr)\n",
    "for i in range(len(arr)):\n",
    "         print(arr[i],end=' ') \n",
    "\n",
    "print('\\n')\n",
    "def sort(arr):   \n",
    "    for i in range(arr[0],len(arr)):\n",
    "        for j in range(i+1,len(arr)):\n",
    "            if arr[i] > arr[j]:\n",
    "                temp = arr[i]\n",
    "                arr[i] = arr[j]\n",
    "                arr[j] = temp\n",
    "sort(arr)\n",
    "print(type(arr))\n",
    "print(arr)"
   ]
  },
  {
   "cell_type": "code",
   "execution_count": 17,
   "metadata": {},
   "outputs": [
    {
     "name": "stdout",
     "output_type": "stream",
     "text": [
      "[1, 2, 3, 4, 5, 6]\n"
     ]
    },
    {
     "data": {
      "text/plain": [
       "11"
      ]
     },
     "execution_count": 17,
     "metadata": {},
     "output_type": "execute_result"
    }
   ],
   "source": [
    " #Find the Highest Contiguous Sum of Two Elements\n",
    "print(arr)\n",
    "def highest_contiguous_sum(arr):\n",
    "    max_sum = float('-inf')\n",
    "    for i in range(len(arr)-1):\n",
    "        current_sum = arr[i] + arr[i+1]\n",
    "        if current_sum > max_sum:\n",
    "            max_sum = current_sum\n",
    "    return max_sum\n",
    "\n",
    "highest_contiguous_sum(arr)\n",
    "\n"
   ]
  },
  {
   "cell_type": "code",
   "execution_count": 19,
   "metadata": {},
   "outputs": [
    {
     "data": {
      "text/plain": [
       "[3, 5]"
      ]
     },
     "execution_count": 19,
     "metadata": {},
     "output_type": "execute_result"
    }
   ],
   "source": [
    "#display c)ommon elements\n",
    "arr1 = [2,3,5,7,8,9]\n",
    "arr2 = [1,3,4,5,6]\n",
    "\n",
    "def common_ele(arr):\n",
    "    c = []\n",
    "    for ele in arr1:\n",
    "        if ele in arr2 and ele not in c:\n",
    "            c.append(ele)\n",
    "    return c\n",
    "\n",
    "\n",
    "common_ele(arr)\n"
   ]
  },
  {
   "cell_type": "code",
   "execution_count": 20,
   "metadata": {},
   "outputs": [
    {
     "data": {
      "text/plain": [
       "[3, 5]"
      ]
     },
     "execution_count": 20,
     "metadata": {},
     "output_type": "execute_result"
    }
   ],
   "source": [
    "#method 2 common ele\n",
    "def common_elements(arr1,arr2):\n",
    "    set1 = set(arr1)\n",
    "    set2 = set(arr2)\n",
    "    \n",
    "    common = set1.intersection(set2)\n",
    "    \n",
    "    return list(common)\n",
    "\n",
    "common_elements(arr1,arr2)"
   ]
  },
  {
   "cell_type": "code",
   "execution_count": 28,
   "metadata": {},
   "outputs": [
    {
     "name": "stdout",
     "output_type": "stream",
     "text": [
      "[1, 2, 3, 4, 5, 6] [7, 8, 9, 10, 11, 12]\n"
     ]
    },
    {
     "data": {
      "text/plain": [
       "([7, 8, 9, 10, 11, 12], [1, 2, 3, 10, 11, 12])"
      ]
     },
     "execution_count": 28,
     "metadata": {},
     "output_type": "execute_result"
    }
   ],
   "source": [
    "print(arr1,arr2)\n",
    "\n",
    "def exchange_array(arr1,arr2):\n",
    "    mid1 = len(arr1)//2\n",
    "    mid2 = len(arr2)//2\n",
    "    \n",
    "    \n",
    "    arr_p1,arr_p2 = arr1[:mid1],arr2[mid1:]    \n",
    "    arr_b1,arr_b2 = arr2[:mid2],arr2[mid2:]\n",
    "    \n",
    "    arr1 = arr_b1 + arr_p2\n",
    "    arr2 = arr_p1 + arr_b2\n",
    "    \n",
    "    return arr1,arr2\n",
    "\n",
    "exchange_array(arr1,arr2)\n"
   ]
  },
  {
   "cell_type": "code",
   "execution_count": 8,
   "metadata": {},
   "outputs": [
    {
     "data": {
      "text/plain": [
       "[3, 2, 1, 7, 6]"
      ]
     },
     "execution_count": 8,
     "metadata": {},
     "output_type": "execute_result"
    }
   ],
   "source": [
    "arr1 = [3,2,1,7,6]\n",
    "arr2 = [1,2,3]\n",
    "def distint_elements(arr1,arr2):\n",
    "    arr3 = []\n",
    "    for ele in arr1 + arr2:\n",
    "        if ele not in arr3:\n",
    "            arr3.append(ele)\n",
    "    return arr3\n",
    "    \n",
    "distint_elements(arr1,arr2)\n"
   ]
  },
  {
   "cell_type": "code",
   "execution_count": 2,
   "metadata": {},
   "outputs": [
    {
     "name": "stdout",
     "output_type": "stream",
     "text": [
      "[1, 2, 3, 5, 5, 6, 7, 8]\n"
     ]
    }
   ],
   "source": [
    "#merge 2 arrays\n",
    "arr1 = [1,2,3,5]\n",
    "arr2 = [5,6,7,8]\n",
    "\n",
    "arr1.extend(arr2)\n",
    "print(arr1)\n"
   ]
  },
  {
   "cell_type": "code",
   "execution_count": 6,
   "metadata": {},
   "outputs": [
    {
     "name": "stdout",
     "output_type": "stream",
     "text": [
      "[1, 2, 3, 5, 5, 6, 7, 8]\n"
     ]
    },
    {
     "data": {
      "text/plain": [
       "[1, 2, 3, 5, 5, 6, 7, 8, 5, 6, 7, 8]"
      ]
     },
     "execution_count": 6,
     "metadata": {},
     "output_type": "execute_result"
    }
   ],
   "source": [
    "#merge arrays 2\n",
    "print(arr1)\n",
    "def merge():\n",
    "    merged =  arr1 + arr2\n",
    "    return merged\n",
    "\n",
    "merge()"
   ]
  },
  {
   "cell_type": "code",
   "execution_count": 17,
   "metadata": {},
   "outputs": [
    {
     "data": {
      "text/plain": [
       "[1, 2, 3, 4, 5, 6, 7, 8, 10, 12]"
      ]
     },
     "execution_count": 17,
     "metadata": {},
     "output_type": "execute_result"
    }
   ],
   "source": [
    "\n",
    "def zig_zig():\n",
    "    length = min(len(arr1),len(arr2))\n",
    "    zig = []\n",
    "    for i in range(length):\n",
    "        zig.append(arr1[i])\n",
    "        zig.append(arr2[i])\n",
    "\n",
    "    if len(arr1)> len(arr2):\n",
    "        zig.extend(arr1[length:])\n",
    "    else:\n",
    "        zig.extend(arr2[length:])\n",
    "    return zig  \n",
    "\n",
    " \n",
    "arr1 = [1, 3, 5, 7]\n",
    "arr2 = [2, 4, 6, 8, 10, 12]\n",
    "zig_zig()\n",
    "\n",
    "    "
   ]
  },
  {
   "cell_type": "code",
   "execution_count": 48,
   "metadata": {},
   "outputs": [
    {
     "name": "stdout",
     "output_type": "stream",
     "text": [
      "[434, 606]\n",
      "2\n",
      "[434, 606]\n",
      "2\n"
     ]
    }
   ],
   "source": [
    "#pallindrome\n",
    "import array as arr\n",
    "arr = arr.array('i',[434,552,606,117])\n",
    "def is_palindrome(num):\n",
    "     return str(num) == str(num)[::-1]\n",
    "            \n",
    "palindrome_list = [] \n",
    "\n",
    "for num in arr:\n",
    "    if is_palindrome(num):\n",
    "        palindrome_list.append(num)\n",
    "print(palindrome_list)\n",
    "        \n",
    "resut = is_palindrome(arr)\n",
    "print(len(palindrome_list))\n",
    "\n",
    "\n",
    "#method 2\n",
    "\n",
    "\n",
    "def pall2(num):\n",
    "    return str(num) == str(num)[::-1]\n",
    "\n",
    "new = list(filter(pall2,arr))\n",
    "\n",
    "print(new)\n",
    "print(len(new))"
   ]
  },
  {
   "cell_type": "code",
   "execution_count": 60,
   "metadata": {},
   "outputs": [
    {
     "name": "stdout",
     "output_type": "stream",
     "text": [
      "the entered matrix is \n",
      "[1, 2]\n",
      "[2, 3]\n"
     ]
    }
   ],
   "source": [
    "#read matrix from input\n",
    "def matrix_print():\n",
    "    row = int(input())\n",
    "    col = int(input())\n",
    "    matrix = []\n",
    "    for num in range(row):\n",
    "        ele = list(map(int,input().split()))\n",
    "        matrix.append(ele)\n",
    "    return matrix\n",
    "\n",
    "matrix = matrix_print()\n",
    "print('the entered matrix is ')\n",
    "\n",
    "for row in matrix:\n",
    "     print(row)"
   ]
  },
  {
   "cell_type": "code",
   "execution_count": 10,
   "metadata": {},
   "outputs": [
    {
     "data": {
      "text/plain": [
       "(2, 7)"
      ]
     },
     "execution_count": 10,
     "metadata": {},
     "output_type": "execute_result"
    }
   ],
   "source": [
    "#2 sum\n",
    "\n",
    "arr = [2,7,11,15]\n",
    "target = 9\n",
    "def sum_2(target,arr):\n",
    "    for i in range(len(arr)-1):\n",
    "       for j in range(i+1,len(arr)+1):\n",
    "             if arr[i] + arr[j] == target:\n",
    "                  return arr[i],arr[j]\n",
    "    return \n",
    "    \n",
    "sum_2(target,arr)"
   ]
  },
  {
   "cell_type": "code",
   "execution_count": 29,
   "metadata": {},
   "outputs": [
    {
     "name": "stdout",
     "output_type": "stream",
     "text": [
      "[3, 2]\n",
      "[2, 1]\n"
     ]
    },
    {
     "data": {
      "text/plain": [
       "([3, 2], [3, 2])"
      ]
     },
     "execution_count": 29,
     "metadata": {},
     "output_type": "execute_result"
    }
   ],
   "source": [
    "#1. Program to Find the Biggest Element in Each Row and Each Column\n",
    "def max_min(matrix):\n",
    "    row = int(input())\n",
    "    col = int(input())\n",
    "    matrix = []\n",
    "    for num in range(row):\n",
    "        number = list(map(int,input().split()))\n",
    "        matrix.append(number)\n",
    "        \n",
    "    for row in matrix:\n",
    "        print(row)\n",
    "    max_row = []\n",
    "    for row in matrix:\n",
    "        max_row.append(max(row))\n",
    "        \n",
    "    max_col = []\n",
    "    for col in range(col):\n",
    "        max_col.append(max(row[col] for row in matrix))\n",
    "        \n",
    "    return max_row,max_col\n",
    "\n",
    "    \n",
    "max_min(matrix)   \n",
    "         \n",
    "    "
   ]
  },
  {
   "cell_type": "code",
   "execution_count": 46,
   "metadata": {},
   "outputs": [
    {
     "data": {
      "text/plain": [
       "([6, 15], [5, 7, 9])"
      ]
     },
     "execution_count": 46,
     "metadata": {},
     "output_type": "execute_result"
    }
   ],
   "source": [
    "#Write a program to read inputs from SCANNER and find the SUM of ELEMENTS in EACH ROW and EACH COLUMN\n",
    "def sum_matrix(matrix):\n",
    "    row = int(input())\n",
    "    col = int(input())\n",
    "    matrix = []\n",
    "    for num in range(row):\n",
    "        mat = list(map(int,input().split()))\n",
    "        matrix.append(mat)\n",
    "    row_sum = []\n",
    "    for num in matrix:\n",
    "        row_sum.append(sum(num))\n",
    "        \n",
    "    col_sum = []\n",
    "    for num in range(col):\n",
    "        col_sum.append(sum(row[num] for row in matrix))\n",
    "    \n",
    "    return row_sum,col_sum\n",
    "\n",
    "sum_matrix(matrix)"
   ]
  },
  {
   "cell_type": "code",
   "execution_count": 60,
   "metadata": {},
   "outputs": [
    {
     "name": "stdout",
     "output_type": "stream",
     "text": [
      "[6, 5, 4, 3, 2]\n"
     ]
    }
   ],
   "source": [
    "#reverse an array\n",
    "arr = [2,3,4,5,6]\n",
    "start = 0\n",
    "end = len(arr)-1\n",
    "def reverse_arr(start,end,arr):\n",
    "    if start>=end:\n",
    "        return\n",
    "    arr[start],arr[end] = arr[end],arr[start]\n",
    "    reverse_arr(start+1,end-1,arr)\n",
    "reverse_arr(start,end,arr)\n",
    "print(arr)\n"
   ]
  },
  {
   "cell_type": "code",
   "execution_count": null,
   "metadata": {},
   "outputs": [],
   "source": []
  }
 ],
 "metadata": {
  "kernelspec": {
   "display_name": "base",
   "language": "python",
   "name": "python3"
  },
  "language_info": {
   "codemirror_mode": {
    "name": "ipython",
    "version": 3
   },
   "file_extension": ".py",
   "mimetype": "text/x-python",
   "name": "python",
   "nbconvert_exporter": "python",
   "pygments_lexer": "ipython3",
   "version": "3.11.5"
  }
 },
 "nbformat": 4,
 "nbformat_minor": 2
}
