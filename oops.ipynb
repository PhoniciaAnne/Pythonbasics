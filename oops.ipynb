{
 "cells": [
  {
   "cell_type": "code",
   "execution_count": 21,
   "metadata": {},
   "outputs": [
    {
     "name": "stdout",
     "output_type": "stream",
     "text": [
      "Hi how are u\n",
      "98.0\n",
      "Shashi [99, 97, 98]\n",
      "[99, 97, 98]\n",
      "None\n"
     ]
    }
   ],
   "source": [
    "#print average\n",
    "class Student:\n",
    "    def __init__(self,name,marks):\n",
    "        self.name = name\n",
    "        self.marks = marks\n",
    "        print(\"Hi how are u\")\n",
    "    \n",
    "    def average(self):\n",
    "        sum = 0\n",
    "        for i in self.marks:\n",
    "            sum+=i\n",
    "        return sum/len(self.marks)\n",
    "    \n",
    "   \n",
    "        \n",
    "\n",
    "s1 = Student(\"Shashi\",[99,97,98])\n",
    "print(s1.average())\n",
    "\n",
    "\n",
    "print(s1.name,s1.marks)\n"
   ]
  },
  {
   "cell_type": "code",
   "execution_count": 42,
   "metadata": {},
   "outputs": [
    {
     "name": "stdout",
     "output_type": "stream",
     "text": [
      "1200 this is balance\n",
      "3200 this is total credit\n",
      "3200\n"
     ]
    }
   ],
   "source": [
    "class account:\n",
    "    def __init__(self,balance,accno):\n",
    "        self.accno =accno\n",
    "        self.balance = balance\n",
    "        \n",
    "    def debit(self,amount):\n",
    "        self.balance = self.balance-amount\n",
    "        print(self.balance,\"this is balance\")\n",
    "        \n",
    "    def credit(self,amount):\n",
    "        self.balance+=amount\n",
    "        print(self.balance,\"this is total credit\")\n",
    "     \n",
    "ac1 = account(2200,22)\n",
    "\n",
    "ac1.debit(1000)\n",
    "ac1.credit(2000)\n",
    "print(ac1.balance)\n"
   ]
  },
  {
   "cell_type": "code",
   "execution_count": 50,
   "metadata": {},
   "outputs": [
    {
     "name": "stdout",
     "output_type": "stream",
     "text": [
      "223\n"
     ]
    }
   ],
   "source": [
    "#privatizing\n",
    "class see:\n",
    "    def __init__(self,name,acc_pas) :\n",
    "        self.name = name \n",
    "        self.__acc_pas = acc_pas\n",
    "        \n",
    "    def res(self):\n",
    "            print(self.__acc_pas)\n",
    "            \n",
    "s2 = see('man',223)\n",
    "\n",
    "s2.res()\n",
    "        "
   ]
  },
  {
   "cell_type": "code",
   "execution_count": 68,
   "metadata": {},
   "outputs": [
    {
     "name": "stdout",
     "output_type": "stream",
     "text": [
      "Car started\n",
      "benz\n"
     ]
    }
   ],
   "source": [
    "class car:\n",
    "    def __init__(self,type):\n",
    "        self.type = type\n",
    "        \n",
    "    @staticmethod\n",
    "    def start():\n",
    "        print(\"Car started\")\n",
    "            \n",
    "    @staticmethod\n",
    "    def stop():\n",
    "        print(\"Car stopped\")\n",
    "            \n",
    "        \n",
    "class brand(car):\n",
    "    def __init__(self,name,type):\n",
    "        self.name = name\n",
    "        super().__init__(type)\n",
    "        super().start()\n",
    "        \n",
    "\n",
    "a1=brand('shehsa','benz')\n",
    "print(a1.type)\n"
   ]
  },
  {
   "cell_type": "code",
   "execution_count": 2,
   "metadata": {},
   "outputs": [
    {
     "name": "stdout",
     "output_type": "stream",
     "text": [
      "shashidhar\n"
     ]
    }
   ],
   "source": [
    "#class method\n",
    "class hat:\n",
    "    name = 'shashi'\n",
    "    def __init__(self,name):\n",
    "        self.name =name\n",
    "        \n",
    "        \n",
    "a = hat('shashidhar')\n",
    "print(a.name)\n"
   ]
  },
  {
   "cell_type": "code",
   "execution_count": 20,
   "metadata": {},
   "outputs": [
    {
     "name": "stdout",
     "output_type": "stream",
     "text": [
      "4 i+ 8 j\n",
      "7 i+ 2 j\n",
      "11 i+ 10 j\n"
     ]
    }
   ],
   "source": [
    "#polymorphism complex num eg\n",
    "class Complex:\n",
    "    def __init__(self, real, imag):\n",
    "        self.real = real\n",
    "        self.imag = imag\n",
    "        \n",
    "    def number(self):\n",
    "      print (self.real, \"i+\" , self.imag,\"j\")\n",
    "      \n",
    "    def __add__(self,num2):\n",
    "        newreal = self.real +num2.real\n",
    "        newimg  = self.imag + num2.imag\n",
    "        return Complex(newreal,newimg)\n",
    "    \n",
    "    \n",
    "a = Complex(4,8)\n",
    "b = Complex(7,2)\n",
    "a.number()\n",
    "b.number()\n",
    "\n",
    "c =a+b\n",
    "\n",
    "c.number()\n",
    "\n"
   ]
  },
  {
   "cell_type": "code",
   "execution_count": 14,
   "metadata": {},
   "outputs": [
    {
     "name": "stdout",
     "output_type": "stream",
     "text": [
      "[5, 10, 15]\n",
      "15\n",
      "10\n"
     ]
    }
   ],
   "source": [
    "#stack\n",
    "class stack:\n",
    "   def __init__(self):\n",
    "       self.stack = []\n",
    "   def push(self,item):\n",
    "       self.stack.append(item)\n",
    "       \n",
    "   def pop(self):\n",
    "       if not self.is_empty():\n",
    "           return self.stack.pop()\n",
    "   def peek(self):\n",
    "       if not self.is_empty():\n",
    "           return self.stack[-1]\n",
    "       \n",
    "   def is_empty(self):\n",
    "       return len(self.stack) == 0\n",
    "   \n",
    "s = stack()\n",
    "s.push(5)\n",
    "s.push(10)\n",
    "s.push(15)\n",
    "print(s.stack)\n",
    "\n",
    "print(s.pop())\n",
    "print(s.peek())"
   ]
  },
  {
   "cell_type": "code",
   "execution_count": 30,
   "metadata": {},
   "outputs": [
    {
     "name": "stdout",
     "output_type": "stream",
     "text": [
      "True\n"
     ]
    }
   ],
   "source": [
    "#valid parenthesis \n",
    "class valid:\n",
    "    def __init__(self):\n",
    "        self.stack = []\n",
    "        \n",
    "    def push(self,item):\n",
    "        self.stack.append(item)\n",
    "    def pop(self):\n",
    "        if not self.is_empty():\n",
    "            return self.stack.pop()\n",
    "        else:\n",
    "            return None\n",
    "    def is_empty(self):\n",
    "        return len(self.stack) == 0\n",
    "             \n",
    "        \n",
    "def balanced(item):\n",
    "    Stack = valid()\n",
    "    \n",
    "    for i in item:\n",
    "        if i == '(':\n",
    "            Stack.push(i)\n",
    "        elif i ==')':\n",
    "            if Stack.is_empty():\n",
    "                return False\n",
    "            Stack.pop()\n",
    "    return Stack.is_empty()\n",
    "       \n",
    "print(balanced(\"((()))\"))      "
   ]
  },
  {
   "cell_type": "code",
   "execution_count": null,
   "metadata": {},
   "outputs": [],
   "source": [
    "\n"
   ]
  }
 ],
 "metadata": {
  "kernelspec": {
   "display_name": "base",
   "language": "python",
   "name": "python3"
  },
  "language_info": {
   "codemirror_mode": {
    "name": "ipython",
    "version": 3
   },
   "file_extension": ".py",
   "mimetype": "text/x-python",
   "name": "python",
   "nbconvert_exporter": "python",
   "pygments_lexer": "ipython3",
   "version": "3.11.5"
  }
 },
 "nbformat": 4,
 "nbformat_minor": 2
}
