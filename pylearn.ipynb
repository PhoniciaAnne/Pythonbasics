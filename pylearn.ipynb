{
  "nbformat": 4,
  "nbformat_minor": 0,
  "metadata": {
    "colab": {
      "provenance": [],
      "authorship_tag": "ABX9TyOhtVe14ON4hIYzi239iFPZ",
      "include_colab_link": true
    },
    "kernelspec": {
      "name": "python3",
      "display_name": "Python 3"
    },
    "language_info": {
      "name": "python"
    }
  },
  "cells": [
    {
      "cell_type": "markdown",
      "metadata": {
        "id": "view-in-github",
        "colab_type": "text"
      },
      "source": [
        "<a href=\"https://colab.research.google.com/github/PhoniciaAnne/Pythonbasics/blob/main/pylearn.ipynb\" target=\"_parent\"><img src=\"https://colab.research.google.com/assets/colab-badge.svg\" alt=\"Open In Colab\"/></a>"
      ]
    },
    {
      "cell_type": "code",
      "execution_count": null,
      "metadata": {
        "colab": {
          "base_uri": "https://localhost:8080/"
        },
        "id": "E9P_DnjJJcS0",
        "outputId": "aa864985-495d-4fce-fafe-384d7769021c"
      },
      "outputs": [
        {
          "output_type": "stream",
          "name": "stdout",
          "text": [
            "enter a10\n",
            "enter b3\n",
            "3.3333333333333335\n"
          ]
        }
      ],
      "source": [
        "  a=int(input(\"enter a\"))\n",
        "b=int(input(\"enter b\"))\n",
        "c=a*b\n",
        "print(c)"
      ]
    },
    {
      "cell_type": "code",
      "source": [
        "#end=\"\"(used for print in same line)\n",
        "a=input()\n",
        "print(a,end=\" \")\n",
        "print(\"sup\")"
      ],
      "metadata": {
        "colab": {
          "base_uri": "https://localhost:8080/"
        },
        "id": "9e9UEheILv4R",
        "outputId": "f121f97f-4646-46bb-9bf5-dc96de3e21b6"
      },
      "execution_count": null,
      "outputs": [
        {
          "output_type": "stream",
          "name": "stdout",
          "text": [
            "hi\n",
            "hisup\n"
          ]
        }
      ]
    },
    {
      "cell_type": "code",
      "source": [
        "# list is group of data(datatype)\n",
        "#imp functions:\n",
        "#len -  for  length\n",
        "# certain value-print ( value in function)\n",
        "#indexing-arr[elemnt index]\n",
        "#req_index=arr.index(value)\n",
        "adding=arr.append(element)\n",
        "maximum=max(elemnt)\n",
        "minimum=min(Ele)\n",
        "assendung-arr.sort()\n",
        "removeing=arr.remove"
      ],
      "metadata": {
        "id": "Q9xgqYG_L-Rb"
      },
      "execution_count": null,
      "outputs": []
    },
    {
      "cell_type": "code",
      "source": [
        "arr=[1,2,3,1.3]\n",
        "print(arr)\n",
        "print(len(arr))\n",
        "print(1 in arr)\n",
        "print(arr[2])\n",
        "print(arr.index(2))\n",
        "arr.append(10)\n",
        "print(arr)\n",
        "print(max(arr))\n",
        "arr.sort()\n",
        "print(arr)\n",
        "arr.remove(3)\n",
        "print(arr)"
      ],
      "metadata": {
        "colab": {
          "base_uri": "https://localhost:8080/"
        },
        "id": "VLjL7XStO3io",
        "outputId": "fa0decc3-ba1a-4200-877c-f345176c649e"
      },
      "execution_count": null,
      "outputs": [
        {
          "output_type": "stream",
          "name": "stdout",
          "text": [
            "[1, 2, 3, 1.3]\n",
            "4\n",
            "True\n",
            "3\n",
            "1\n",
            "[1, 2, 3, 1.3, 10]\n",
            "10\n",
            "[1, 1.3, 2, 3, 10]\n",
            "[1, 1.3, 2, 10]\n"
          ]
        }
      ]
    },
    {
      "cell_type": "code",
      "source": [
        "#tuples-imuatable\n",
        "t=(1,2,3,4)\n",
        "print(len(t))\n",
        "print(max(t))\n",
        "print(t.index(3))\n",
        "print(t)\n"
      ],
      "metadata": {
        "colab": {
          "base_uri": "https://localhost:8080/"
        },
        "id": "HenFxXVsO_OG",
        "outputId": "56c81458-a549-4c34-8ea0-b530798a0a3d"
      },
      "execution_count": null,
      "outputs": [
        {
          "output_type": "stream",
          "name": "stdout",
          "text": [
            "4\n",
            "4\n",
            "2\n",
            "(1, 2, 3, 4)\n"
          ]
        }
      ]
    },
    {
      "cell_type": "code",
      "source": [
        "#sets-{}-no duplicate values, it will auto sort tit\n",
        "#add  by using add func\n",
        "#remove,len\n",
        "set={7,10,1,2,3,3,4}\n",
        "print(set)\n",
        "set.add(11)\n",
        "set.add(0)\n",
        "print(set)\n",
        "print(len(set))"
      ],
      "metadata": {
        "colab": {
          "base_uri": "https://localhost:8080/"
        },
        "id": "UcnDWTOKSZw9",
        "outputId": "c25b6450-d3c9-4466-9376-be8ff0743f90"
      },
      "execution_count": null,
      "outputs": [
        {
          "output_type": "stream",
          "name": "stdout",
          "text": [
            "{1, 2, 3, 4, 7, 10}\n",
            "{0, 1, 2, 3, 4, 7, 10, 11}\n",
            "8\n"
          ]
        }
      ]
    },
    {
      "cell_type": "code",
      "source": [
        "#dictionaries(key:value)pairs\n",
        "dict={'a':10,'b':20,'c':30}\n",
        "print(dict)\n",
        "print(dict['a'])"
      ],
      "metadata": {
        "colab": {
          "base_uri": "https://localhost:8080/"
        },
        "id": "p33WQMVvTdq2",
        "outputId": "1c157cf9-b64b-4291-a074-eb62a25dcae9"
      },
      "execution_count": null,
      "outputs": [
        {
          "output_type": "stream",
          "name": "stdout",
          "text": [
            "{'a': 10, 'b': 20, 'c': 30}\n",
            "10\n"
          ]
        }
      ]
    },
    {
      "cell_type": "code",
      "source": [
        "#adding val in dict\\\n",
        "d={}\n",
        "d['hi']=90\n",
        "d.__setitem__('hello',9)\n",
        "print(d)\n",
        "print(d.get('hi'))\n",
        "#funct of dictionaries\n",
        "#min #len\n",
        "#max\n",
        "print(max(d))\n",
        "print(min(d))\n",
        "print(len(d))"
      ],
      "metadata": {
        "colab": {
          "base_uri": "https://localhost:8080/"
        },
        "id": "MtCXrjUbcvEI",
        "outputId": "e11d7009-8d69-417d-c306-7e55e5c1c371"
      },
      "execution_count": null,
      "outputs": [
        {
          "output_type": "stream",
          "name": "stdout",
          "text": [
            "{'hi': 90, 'hello': 9}\n",
            "90\n",
            "hi\n",
            "hello\n",
            "2\n"
          ]
        }
      ]
    },
    {
      "cell_type": "code",
      "source": [
        "#spe operators\n",
        "#in\n",
        "#not in\n",
        "l=[1,2,3,4]\n",
        "print(5 in l)\n",
        "#is,is not\n",
        "a=10\n",
        "b=3\n",
        "print(a is b)"
      ],
      "metadata": {
        "id": "PDeZVQT3d5lo",
        "colab": {
          "base_uri": "https://localhost:8080/"
        },
        "outputId": "3c578134-0c7c-4f50-f15a-1b6095fea5e9"
      },
      "execution_count": null,
      "outputs": [
        {
          "output_type": "stream",
          "name": "stdout",
          "text": [
            "False\n",
            "False\n"
          ]
        }
      ]
    },
    {
      "cell_type": "code",
      "source": [
        "#bitwise op\n",
        "#&,|,\n",
        "#^(xor)"
      ],
      "metadata": {
        "id": "kyU5AcAggNWz"
      },
      "execution_count": null,
      "outputs": []
    },
    {
      "cell_type": "code",
      "source": [
        "#if'\n",
        "#if Condition:\n",
        " # print(\"\")\n",
        "#else:\n",
        " # print(\"\")(4 bits indentation)\n"
      ],
      "metadata": {
        "id": "KDJ6aP0OiJjn"
      },
      "execution_count": null,
      "outputs": []
    },
    {
      "cell_type": "code",
      "source": [
        "#nested if\n",
        "name=(input(\"name\"))\n",
        "age=(int(input('age')))\n",
        "gender=(input('gender'))\n",
        "if age>=18:\n",
        "  if gender=='M':\n",
        "    print('mr {}'.format(name))\n",
        "  else:\n",
        "    print('miss  ',name)\n",
        "else:\n",
        "  print('no')\n"
      ],
      "metadata": {
        "colab": {
          "base_uri": "https://localhost:8080/"
        },
        "id": "95ThEz5hlEZX",
        "outputId": "ad521f08-9bbf-4e90-e803-c98de32f6d50"
      },
      "execution_count": null,
      "outputs": [
        {
          "output_type": "stream",
          "name": "stdout",
          "text": [
            "nameshasi\n",
            "age12\n",
            "genderm\n",
            "no\n"
          ]
        }
      ]
    },
    {
      "cell_type": "code",
      "source": [
        "#modules\n",
        "if __name__=='__main__':\n",
        "  print(3)"
      ],
      "metadata": {
        "colab": {
          "base_uri": "https://localhost:8080/"
        },
        "id": "fLIGCbyRmC3D",
        "outputId": "d4d73552-acab-4263-aa08-4f82a6a6ff7e"
      },
      "execution_count": null,
      "outputs": [
        {
          "output_type": "stream",
          "name": "stdout",
          "text": [
            "3\n"
          ]
        }
      ]
    },
    {
      "cell_type": "code",
      "source": [
        "#loops\n",
        "l=[10,20,30,40,50]\n",
        "sum=0\n",
        "for  i in l:\n",
        "    sum=sum+i;\n",
        "print(sum)"
      ],
      "metadata": {
        "id": "PKoy-z4zoGEF",
        "colab": {
          "base_uri": "https://localhost:8080/"
        },
        "outputId": "e48c72ec-fbc7-4128-b413-1d0958a3e802"
      },
      "execution_count": null,
      "outputs": [
        {
          "output_type": "stream",
          "name": "stdout",
          "text": [
            "150\n"
          ]
        }
      ]
    },
    {
      "cell_type": "code",
      "source": [
        "arr=[2,3,4,5,6]\n",
        "sum=0\n",
        "for i in arr:\n",
        "  sum=sum+i;\n",
        "print(sum)"
      ],
      "metadata": {
        "colab": {
          "base_uri": "https://localhost:8080/"
        },
        "id": "-0VQ8wb_nnB5",
        "outputId": "b71b3bc7-c0a8-45e1-b35e-0d44514c34e0"
      },
      "execution_count": null,
      "outputs": [
        {
          "output_type": "stream",
          "name": "stdout",
          "text": [
            "20\n"
          ]
        }
      ]
    },
    {
      "cell_type": "code",
      "source": [
        "t=(int(input(\"Enter value  \")))\n",
        "\n",
        "for i in range(1,21):\n",
        "  mul=t*i\n",
        "  print(t,'*',i,'=',mul)\n",
        "\n"
      ],
      "metadata": {
        "colab": {
          "base_uri": "https://localhost:8080/"
        },
        "id": "_B-WXyGjrcVy",
        "outputId": "5bc11567-1766-4b4f-8a46-ff460529766c"
      },
      "execution_count": null,
      "outputs": [
        {
          "output_type": "stream",
          "name": "stdout",
          "text": [
            "Enter value  35\n",
            "35 * 1 = 35\n",
            "35 * 2 = 70\n",
            "35 * 3 = 105\n",
            "35 * 4 = 140\n",
            "35 * 5 = 175\n",
            "35 * 6 = 210\n",
            "35 * 7 = 245\n",
            "35 * 8 = 280\n",
            "35 * 9 = 315\n",
            "35 * 10 = 350\n",
            "35 * 11 = 385\n",
            "35 * 12 = 420\n",
            "35 * 13 = 455\n",
            "35 * 14 = 490\n",
            "35 * 15 = 525\n",
            "35 * 16 = 560\n",
            "35 * 17 = 595\n",
            "35 * 18 = 630\n",
            "35 * 19 = 665\n",
            "35 * 20 = 700\n"
          ]
        }
      ]
    },
    {
      "cell_type": "code",
      "source": [
        "a=int(input())\n",
        "i=0\n",
        "while(i<=10):\n",
        "  print(a,\"*\",i,\"=\",a*i)\n",
        "  i=i+1"
      ],
      "metadata": {
        "colab": {
          "base_uri": "https://localhost:8080/"
        },
        "id": "WIEL0tW5t-T5",
        "outputId": "72e64868-5d68-4563-a7a0-c5dc2e3b747f"
      },
      "execution_count": null,
      "outputs": [
        {
          "output_type": "stream",
          "name": "stdout",
          "text": [
            "6\n",
            "6 * 0 = 0\n",
            "6 * 1 = 6\n",
            "6 * 2 = 12\n",
            "6 * 3 = 18\n",
            "6 * 4 = 24\n",
            "6 * 5 = 30\n",
            "6 * 6 = 36\n",
            "6 * 7 = 42\n",
            "6 * 8 = 48\n",
            "6 * 9 = 54\n",
            "6 * 10 = 60\n"
          ]
        }
      ]
    },
    {
      "cell_type": "code",
      "source": [
        "\n",
        "l = [2, 3, 4, 5, 6]\n",
        "\n",
        "found = False\n",
        "for num in l:\n",
        "    if num == 3:\n",
        "        print(\"there\")\n",
        "        found = True\n",
        "        break\n",
        "    else:\n",
        "        print(\"not\")\n",
        "\n",
        "if not found:\n",
        "    print(\"not\")\n",
        "\n",
        "\n"
      ],
      "metadata": {
        "colab": {
          "base_uri": "https://localhost:8080/"
        },
        "id": "rBlobjkPxqV4",
        "outputId": "4e4ad79f-c64c-46a3-cd53-b855e35fde9e"
      },
      "execution_count": null,
      "outputs": [
        {
          "output_type": "stream",
          "name": "stdout",
          "text": [
            "not\n",
            "there\n"
          ]
        }
      ]
    },
    {
      "cell_type": "code",
      "source": [
        "a=0\n",
        "while (a<10):\n",
        "    print(a)\n",
        "    a=a+1"
      ],
      "metadata": {
        "colab": {
          "base_uri": "https://localhost:8080/"
        },
        "id": "AppLykUmxpS1",
        "outputId": "b1374a38-3554-4754-cff7-5821705c43ed"
      },
      "execution_count": null,
      "outputs": [
        {
          "output_type": "stream",
          "name": "stdout",
          "text": [
            "0\n",
            "1\n",
            "2\n",
            "3\n",
            "4\n",
            "5\n",
            "6\n",
            "7\n",
            "8\n",
            "9\n"
          ]
        }
      ]
    },
    {
      "cell_type": "code",
      "source": [
        "l = [2, 3, 4, 5, 6]\n",
        "\n",
        "found = False\n",
        "for num in l:\n",
        "    if num == 3:\n",
        "        found = True\n",
        "        break\n",
        "if found==True:\n",
        "  print(\"yes\")\n",
        "else:\n",
        "  print(\"no\")\n"
      ],
      "metadata": {
        "colab": {
          "base_uri": "https://localhost:8080/"
        },
        "id": "PHJh1dctz0Ej",
        "outputId": "e535dab7-4da3-4955-a060-4504d38a7d03"
      },
      "execution_count": null,
      "outputs": [
        {
          "output_type": "stream",
          "name": "stdout",
          "text": [
            "yes\n"
          ]
        }
      ]
    },
    {
      "cell_type": "code",
      "source": [
        "for i in range(1,12):\n",
        "  if i==3:\n",
        "    continue\n",
        "  print(i,end='')\n",
        "for i in range(1,12):\n",
        "  if i==5:\n",
        "     break\n",
        "  print(i)"
      ],
      "metadata": {
        "colab": {
          "base_uri": "https://localhost:8080/"
        },
        "id": "iTjCx2Wj6oOI",
        "outputId": "85e1a1f2-3f79-46db-b46a-8e2062886836"
      },
      "execution_count": null,
      "outputs": [
        {
          "output_type": "stream",
          "name": "stdout",
          "text": [
            "1245678910111\n",
            "2\n",
            "3\n",
            "4\n"
          ]
        }
      ]
    },
    {
      "cell_type": "code",
      "source": [
        "n = int(input(\"Enter n: \"))\n",
        "\n",
        "for i in range(n):\n",
        "  t = float(input(\"Enter temperature: \"))\n",
        "  h = float(input(\"Enter humidity: \"))\n",
        "  w = float(input(\"Enter wind speed: \"))\n",
        "  weather = 0.5 * t**2 - 0.2 * h + 0.1 * w - 15\n",
        "  print(weather)\n",
        "  if weather > 300:\n",
        "        print(\"Category: s\")\n",
        "  elif 200 < weather <= 300:\n",
        "        print(\"Category: c\")\n",
        "  elif 100 < weather <= 200:\n",
        "        print(\"Category: r\")\n",
        "  else:\n",
        "        print(\"category: end\")\n"
      ],
      "metadata": {
        "colab": {
          "base_uri": "https://localhost:8080/"
        },
        "id": "BRiimYbj8Tyw",
        "outputId": "432c8091-0e81-46a5-82f6-6e8d1c9758a0"
      },
      "execution_count": null,
      "outputs": [
        {
          "output_type": "stream",
          "name": "stdout",
          "text": [
            "Enter n: 2\n",
            "Enter temperature: 10\n",
            "Enter humidity: 5\n",
            "Enter wind speed: 2\n",
            "34.2\n",
            "category: end\n",
            "Enter temperature: 458\n",
            "Enter humidity: 1\n",
            "Enter wind speed: 0\n",
            "104866.8\n",
            "Category: s\n"
          ]
        }
      ]
    },
    {
      "cell_type": "code",
      "source": [
        "#functions without parameter without return val\n",
        "def hi():\n",
        "  print(\"hi\")\n",
        "hi()"
      ],
      "metadata": {
        "colab": {
          "base_uri": "https://localhost:8080/"
        },
        "id": "R2dOV7R9D1zZ",
        "outputId": "ee7f20e2-6f5c-41ee-b275-63fe005dd1e7"
      },
      "execution_count": null,
      "outputs": [
        {
          "output_type": "stream",
          "name": "stdout",
          "text": [
            "hi\n"
          ]
        }
      ]
    },
    {
      "cell_type": "code",
      "source": [
        "#fun without para with retrn\n",
        "def hi():\n",
        "  return (\"hi\")\n",
        "print(hi())"
      ],
      "metadata": {
        "colab": {
          "base_uri": "https://localhost:8080/"
        },
        "id": "ZR_PGxIxbbdE",
        "outputId": "b70bae75-73e2-487a-b93e-b0e2b938e75b"
      },
      "execution_count": null,
      "outputs": [
        {
          "output_type": "stream",
          "name": "stdout",
          "text": [
            "hi\n"
          ]
        }
      ]
    },
    {
      "cell_type": "code",
      "source": [
        "#fun with para without retrn\n",
        "name=input(\"name is :\")\n",
        "val=int(input(\"num is : \"))\n",
        "def hi(name,val):\n",
        "  print(\"good evning  \",name,val)\n",
        "\n",
        "hi(name,val)"
      ],
      "metadata": {
        "colab": {
          "base_uri": "https://localhost:8080/"
        },
        "id": "5fbUyq9AcJRj",
        "outputId": "0f79e61a-8422-465f-ff3b-235fcef225d0"
      },
      "execution_count": null,
      "outputs": [
        {
          "output_type": "stream",
          "name": "stdout",
          "text": [
            "name is :abc\n",
            "num is : 3\n",
            "good evning   abc 3\n"
          ]
        }
      ]
    },
    {
      "cell_type": "code",
      "source": [
        "def hi(name,val):\n",
        "   return print(\"good evning  \",name,val)\n",
        "name=(input())\n",
        "val=(input())\n",
        "hi(name,val)"
      ],
      "metadata": {
        "colab": {
          "base_uri": "https://localhost:8080/"
        },
        "id": "4hyXs2WO3EWU",
        "outputId": "6026d046-f326-484e-87f9-f3de3e6b1bfd"
      },
      "execution_count": null,
      "outputs": [
        {
          "output_type": "stream",
          "name": "stdout",
          "text": [
            "sha\n",
            "2\n",
            "good evning   sha 2\n"
          ]
        }
      ]
    },
    {
      "cell_type": "code",
      "source": [
        "#func with return withour para\n",
        "def num():\n",
        "     sum=0\n",
        "     for i in range(0,6):\n",
        "\n",
        "        sum=sum+i\n",
        "     return sum\n",
        "print(num())\n",
        "\n"
      ],
      "metadata": {
        "colab": {
          "base_uri": "https://localhost:8080/"
        },
        "id": "7xd_nCtuCMRe",
        "outputId": "488d3c96-b1d0-4acb-8ebd-b51bba93cb5c"
      },
      "execution_count": null,
      "outputs": [
        {
          "output_type": "stream",
          "name": "stdout",
          "text": [
            "15\n"
          ]
        }
      ]
    },
    {
      "cell_type": "code",
      "source": [
        "#recurson\n",
        "def n():\n",
        "  print(\"hi\")\n",
        "  n()\n",
        "n()"
      ],
      "metadata": {
        "colab": {
          "base_uri": "https://localhost:8080/",
          "height": 1000
        },
        "id": "BAGoeGpWDSkm",
        "outputId": "e395ab73-3b66-4450-d80f-56994c3adf53"
      },
      "execution_count": null,
      "outputs": [
        {
          "output_type": "stream",
          "name": "stdout",
          "text": [
            "hi\n",
            "hi\n",
            "hi\n",
            "hi\n",
            "hi\n",
            "hi\n",
            "hi\n",
            "hi\n",
            "hi\n",
            "hi\n",
            "hi\n",
            "hi\n",
            "hi\n",
            "hi\n",
            "hi\n",
            "hi\n",
            "hi\n",
            "hi\n",
            "hi\n",
            "hi\n",
            "hi\n",
            "hi\n",
            "hi\n",
            "hi\n",
            "hi\n",
            "hi\n",
            "hi\n",
            "hi\n",
            "hi\n",
            "hi\n",
            "hi\n",
            "hi\n",
            "hi\n",
            "hi\n",
            "hi\n",
            "hi\n",
            "hi\n",
            "hi\n",
            "hi\n",
            "hi\n",
            "hi\n",
            "hi\n",
            "hi\n",
            "hi\n",
            "hi\n",
            "hi\n",
            "hi\n",
            "hi\n",
            "hi\n",
            "hi\n",
            "hi\n",
            "hi\n",
            "hi\n",
            "hi\n",
            "hi\n",
            "hi\n",
            "hi\n",
            "hi\n",
            "hi\n",
            "hi\n",
            "hi\n",
            "hi\n",
            "hi\n",
            "hi\n",
            "hi\n",
            "hi\n",
            "hi\n",
            "hi\n",
            "hi\n",
            "hi\n",
            "hi\n",
            "hi\n",
            "hi\n",
            "hi\n",
            "hi\n",
            "hi\n",
            "hi\n",
            "hi\n",
            "hi\n",
            "hi\n",
            "hi\n",
            "hi\n",
            "hi\n",
            "hi\n",
            "hi\n",
            "hi\n",
            "hi\n",
            "hi\n",
            "hi\n",
            "hi\n",
            "hi\n",
            "hi\n",
            "hi\n",
            "hi\n",
            "hi\n",
            "hi\n",
            "hi\n",
            "hi\n",
            "hi\n",
            "hi\n",
            "hi\n",
            "hi\n",
            "hi\n",
            "hi\n",
            "hi\n",
            "hi\n",
            "hi\n",
            "hi\n",
            "hi\n",
            "hi\n",
            "hi\n",
            "hi\n",
            "hi\n",
            "hi\n",
            "hi\n",
            "hi\n",
            "hi\n",
            "hi\n",
            "hi\n",
            "hi\n",
            "hi\n",
            "hi\n",
            "hi\n",
            "hi\n",
            "hi\n",
            "hi\n",
            "hi\n",
            "hi\n",
            "hi\n",
            "hi\n",
            "hi\n",
            "hi\n",
            "hi\n",
            "hi\n",
            "hi\n",
            "hi\n",
            "hi\n",
            "hi\n",
            "hi\n",
            "hi\n",
            "hi\n",
            "hi\n",
            "hi\n",
            "hi\n",
            "hi\n",
            "hi\n",
            "hi\n",
            "hi\n",
            "hi\n",
            "hi\n",
            "hi\n",
            "hi\n",
            "hi\n",
            "hi\n",
            "hi\n",
            "hi\n",
            "hi\n",
            "hi\n",
            "hi\n",
            "hi\n",
            "hi\n",
            "hi\n",
            "hi\n",
            "hi\n",
            "hi\n",
            "hi\n",
            "hi\n",
            "hi\n",
            "hi\n",
            "hi\n",
            "hi\n",
            "hi\n",
            "hi\n",
            "hi\n",
            "hi\n",
            "hi\n",
            "hi\n",
            "hi\n",
            "hi\n",
            "hi\n",
            "hi\n",
            "hi\n",
            "hi\n",
            "hi\n",
            "hi\n",
            "hi\n",
            "hi\n",
            "hi\n",
            "hi\n",
            "hi\n",
            "hi\n",
            "hi\n",
            "hi\n",
            "hi\n",
            "hi\n",
            "hi\n",
            "hi\n",
            "hi\n",
            "hi\n",
            "hi\n",
            "hi\n",
            "hi\n",
            "hi\n",
            "hi\n",
            "hi\n",
            "hi\n",
            "hi\n",
            "hi\n",
            "hi\n",
            "hi\n",
            "hi\n",
            "hi\n",
            "hi\n",
            "hi\n",
            "hi\n",
            "hi\n",
            "hi\n",
            "hi\n",
            "hi\n",
            "hi\n",
            "hi\n",
            "hi\n",
            "hi\n",
            "hi\n",
            "hi\n",
            "hi\n",
            "hi\n",
            "hi\n",
            "hi\n",
            "hi\n",
            "hi\n",
            "hi\n",
            "hi\n",
            "hi\n",
            "hi\n",
            "hi\n",
            "hi\n",
            "hi\n",
            "hi\n",
            "hi\n",
            "hi\n",
            "hi\n",
            "hi\n",
            "hi\n",
            "hi\n",
            "hi\n",
            "hi\n",
            "hi\n",
            "hi\n",
            "hi\n",
            "hi\n",
            "hi\n",
            "hi\n",
            "hi\n",
            "hi\n",
            "hi\n",
            "hi\n",
            "hi\n",
            "hi\n",
            "hi\n",
            "hi\n",
            "hi\n",
            "hi\n",
            "hi\n",
            "hi\n",
            "hi\n",
            "hi\n",
            "hi\n",
            "hi\n",
            "hi\n",
            "hi\n",
            "hi\n",
            "hi\n",
            "hi\n",
            "hi\n",
            "hi\n",
            "hi\n",
            "hi\n",
            "hi\n",
            "hi\n",
            "hi\n",
            "hi\n",
            "hi\n",
            "hi\n",
            "hi\n",
            "hi\n",
            "hi\n",
            "hi\n",
            "hi\n",
            "hi\n",
            "hi\n",
            "hi\n",
            "hi\n",
            "hi\n",
            "hi\n",
            "hi\n",
            "hi\n",
            "hi\n",
            "hi\n",
            "hi\n",
            "hi\n",
            "hi\n",
            "hi\n",
            "hi\n",
            "hi\n",
            "hi\n",
            "hi\n",
            "hi\n",
            "hi\n",
            "hi\n",
            "hi\n",
            "hi\n",
            "hi\n",
            "hi\n",
            "hi\n",
            "hi\n",
            "hi\n",
            "hi\n",
            "hi\n",
            "hi\n",
            "hi\n",
            "hi\n",
            "hi\n",
            "hi\n",
            "hi\n",
            "hi\n",
            "hi\n",
            "hi\n",
            "hi\n",
            "hi\n",
            "hi\n",
            "hi\n",
            "hi\n",
            "hi\n",
            "hi\n",
            "hi\n",
            "hi\n",
            "hi\n",
            "hi\n",
            "hi\n",
            "hi\n",
            "hi\n",
            "hi\n",
            "hi\n",
            "hi\n",
            "hi\n",
            "hi\n",
            "hi\n",
            "hi\n",
            "hi\n",
            "hi\n",
            "hi\n",
            "hi\n",
            "hi\n",
            "hi\n",
            "hi\n",
            "hi\n",
            "hi\n",
            "hi\n",
            "hi\n",
            "hi\n",
            "hi\n",
            "hi\n",
            "hi\n",
            "hi\n",
            "hi\n",
            "hi\n",
            "hi\n",
            "hi\n",
            "hi\n",
            "hi\n",
            "hi\n",
            "hi\n",
            "hi\n",
            "hi\n",
            "hi\n",
            "hi\n",
            "hi\n",
            "hi\n",
            "hi\n",
            "hi\n",
            "hi\n",
            "hi\n",
            "hi\n",
            "hi\n",
            "hi\n",
            "hi\n",
            "hi\n",
            "hi\n",
            "hi\n",
            "hi\n",
            "hi\n",
            "hi\n",
            "hi\n",
            "hi\n",
            "hi\n",
            "hi\n",
            "hi\n",
            "hi\n",
            "hi\n",
            "hi\n",
            "hi\n",
            "hi\n",
            "hi\n",
            "hi\n",
            "hi\n",
            "hi\n",
            "hi\n",
            "hi\n",
            "hi\n",
            "hi\n",
            "hi\n",
            "hi\n",
            "hi\n",
            "hi\n",
            "hi\n",
            "hi\n",
            "hi\n",
            "hi\n",
            "hi\n",
            "hi\n",
            "hi\n",
            "hi\n",
            "hi\n",
            "hi\n",
            "hi\n",
            "hi\n",
            "hi\n",
            "hi\n",
            "hi\n",
            "hi\n",
            "hi\n",
            "hi\n",
            "hi\n",
            "hi\n",
            "hi\n",
            "hi\n",
            "hi\n",
            "hi\n",
            "hi\n",
            "hi\n",
            "hi\n",
            "hi\n",
            "hi\n",
            "hi\n",
            "hi\n",
            "hi\n",
            "hi\n",
            "hi\n",
            "hi\n",
            "hi\n",
            "hi\n",
            "hi\n",
            "hi\n",
            "hi\n",
            "hi\n",
            "hi\n",
            "hi\n",
            "hi\n",
            "hi\n",
            "hi\n",
            "hi\n",
            "hi\n",
            "hi\n",
            "hi\n",
            "hi\n",
            "hi\n",
            "hi\n",
            "hi\n",
            "hi\n",
            "hi\n",
            "hi\n",
            "hi\n",
            "hi\n",
            "hi\n",
            "hi\n",
            "hi\n",
            "hi\n",
            "hi\n",
            "hi\n",
            "hi\n",
            "hi\n",
            "hi\n",
            "hi\n",
            "hi\n",
            "hi\n",
            "hi\n",
            "hi\n",
            "hi\n",
            "hi\n",
            "hi\n",
            "hi\n",
            "hi\n",
            "hi\n",
            "hi\n",
            "hi\n",
            "hi\n",
            "hi\n",
            "hi\n",
            "hi\n",
            "hi\n",
            "hi\n",
            "hi\n",
            "hi\n",
            "hi\n",
            "hi\n",
            "hi\n",
            "hi\n",
            "hi\n",
            "hi\n",
            "hi\n",
            "hi\n",
            "hi\n",
            "hi\n",
            "hi\n",
            "hi\n",
            "hi\n",
            "hi\n",
            "hi\n",
            "hi\n",
            "hi\n",
            "hi\n",
            "hi\n",
            "hi\n",
            "hi\n",
            "hi\n",
            "hi\n",
            "hi\n",
            "hi\n",
            "hi\n",
            "hi\n",
            "hi\n",
            "hi\n",
            "hi\n",
            "hi\n",
            "hi\n",
            "hi\n",
            "hi\n",
            "hi\n",
            "hi\n",
            "hi\n",
            "hi\n",
            "hi\n",
            "hi\n",
            "hi\n",
            "hi\n",
            "hi\n",
            "hi\n",
            "hi\n",
            "hi\n",
            "hi\n",
            "hi\n",
            "hi\n",
            "hi\n",
            "hi\n",
            "hi\n",
            "hi\n",
            "hi\n",
            "hi\n",
            "hi\n",
            "hi\n",
            "hi\n",
            "hi\n",
            "hi\n",
            "hi\n",
            "hi\n",
            "hi\n",
            "hi\n",
            "hi\n",
            "hi\n",
            "hi\n",
            "hi\n",
            "hi\n",
            "hi\n",
            "hi\n",
            "hi\n",
            "hi\n",
            "hi\n",
            "hi\n",
            "hi\n",
            "hi\n",
            "hi\n",
            "hi\n",
            "hi\n",
            "hi\n",
            "hi\n",
            "hi\n",
            "hi\n",
            "hi\n",
            "hi\n",
            "hi\n",
            "hi\n",
            "hi\n",
            "hi\n",
            "hi\n",
            "hi\n",
            "hi\n",
            "hi\n",
            "hi\n",
            "hi\n",
            "hi\n",
            "hi\n",
            "hi\n",
            "hi\n",
            "hi\n",
            "hi\n",
            "hi\n",
            "hi\n",
            "hi\n",
            "hi\n",
            "hi\n",
            "hi\n",
            "hi\n",
            "hi\n",
            "hi\n",
            "hi\n",
            "hi\n",
            "hi\n",
            "hi\n",
            "hi\n",
            "hi\n",
            "hi\n",
            "hi\n",
            "hi\n",
            "hi\n",
            "hi\n",
            "hi\n",
            "hi\n",
            "hi\n",
            "hi\n",
            "hi\n",
            "hi\n",
            "hi\n",
            "hi\n",
            "hi\n",
            "hi\n",
            "hi\n",
            "hi\n",
            "hi\n",
            "hi\n",
            "hi\n",
            "hi\n",
            "hi\n",
            "hi\n",
            "hi\n",
            "hi\n",
            "hi\n",
            "hi\n",
            "hi\n",
            "hi\n",
            "hi\n",
            "hi\n",
            "hi\n",
            "hi\n",
            "hi\n",
            "hi\n",
            "hi\n",
            "hi\n",
            "hi\n",
            "hi\n",
            "hi\n",
            "hi\n",
            "hi\n",
            "hi\n",
            "hi\n",
            "hi\n",
            "hi\n",
            "hi\n",
            "hi\n",
            "hi\n",
            "hi\n",
            "hi\n",
            "hi\n",
            "hi\n",
            "hi\n",
            "hi\n",
            "hi\n",
            "hi\n",
            "hi\n",
            "hi\n",
            "hi\n",
            "hi\n",
            "hi\n",
            "hi\n",
            "hi\n",
            "hi\n",
            "hi\n",
            "hi\n",
            "hi\n",
            "hi\n",
            "hi\n",
            "hi\n",
            "hi\n",
            "hi\n",
            "hi\n",
            "hi\n",
            "hi\n",
            "hi\n",
            "hi\n",
            "hi\n",
            "hi\n",
            "hi\n",
            "hi\n",
            "hi\n",
            "hi\n",
            "hi\n",
            "hi\n",
            "hi\n",
            "hi\n",
            "hi\n",
            "hi\n",
            "hi\n",
            "hi\n",
            "hi\n",
            "hi\n",
            "hi\n",
            "hi\n",
            "hi\n",
            "hi\n",
            "hi\n",
            "hi\n",
            "hi\n",
            "hi\n",
            "hi\n",
            "hi\n",
            "hi\n",
            "hi\n",
            "hi\n",
            "hi\n",
            "hi\n",
            "hi\n",
            "hi\n",
            "hi\n",
            "hi\n",
            "hi\n",
            "hi\n",
            "hi\n",
            "hi\n",
            "hi\n",
            "hi\n",
            "hi\n",
            "hi\n",
            "hi\n",
            "hi\n",
            "hi\n",
            "hi\n",
            "hi\n",
            "hi\n",
            "hi\n",
            "hi\n",
            "hi\n",
            "hi\n",
            "hi\n",
            "hi\n",
            "hi\n",
            "hi\n",
            "hi\n",
            "hi\n",
            "hi\n",
            "hi\n",
            "hi\n",
            "hi\n",
            "hi\n",
            "hi\n",
            "hi\n",
            "hi\n",
            "hi\n",
            "hi\n",
            "hi\n",
            "hi\n",
            "hi\n",
            "hi\n",
            "hi\n",
            "hi\n",
            "hi\n",
            "hi\n",
            "hi\n",
            "hi\n",
            "hi\n",
            "hi\n",
            "hi\n",
            "hi\n",
            "hi\n",
            "hi\n",
            "hi\n",
            "hi\n",
            "hi\n",
            "hi\n",
            "hi\n",
            "hi\n",
            "hi\n",
            "hi\n",
            "hi\n",
            "hi\n",
            "hi\n",
            "hi\n",
            "hi\n",
            "hi\n",
            "hi\n",
            "hi\n",
            "hi\n",
            "hi\n",
            "hi\n",
            "hi\n",
            "hi\n",
            "hi\n",
            "hi\n",
            "hi\n",
            "hi\n",
            "hi\n",
            "hi\n",
            "hi\n",
            "hi\n",
            "hi\n",
            "hi\n",
            "hi\n",
            "hi\n",
            "hi\n",
            "hi\n",
            "hi\n",
            "hi\n",
            "hi\n",
            "hi\n",
            "hi\n",
            "hi\n",
            "hi\n",
            "hi\n",
            "hi\n",
            "hi\n",
            "hi\n",
            "hi\n",
            "hi\n",
            "hi\n",
            "hi\n",
            "hi\n",
            "hi\n",
            "hi\n",
            "hi\n",
            "hi\n",
            "hi\n",
            "hi\n",
            "hi\n",
            "hi\n",
            "hi\n",
            "hi\n",
            "hi\n",
            "hi\n",
            "hi\n",
            "hi\n",
            "hi\n",
            "hi\n",
            "hi\n",
            "hi\n",
            "hi\n",
            "hi\n",
            "hi\n",
            "hi\n",
            "hi\n",
            "hi\n",
            "hi\n",
            "hi\n",
            "hi\n",
            "hi\n",
            "hi\n",
            "hi\n",
            "hi\n",
            "hi\n",
            "hi\n",
            "hi\n",
            "hi\n",
            "hi\n",
            "hi\n",
            "hi\n",
            "hi\n",
            "hi\n",
            "hi\n",
            "hi\n",
            "hi\n",
            "hi\n",
            "hi\n",
            "hi\n",
            "hi\n",
            "hi\n",
            "hi\n",
            "hi\n",
            "hi\n",
            "hi\n",
            "hi\n",
            "hi\n",
            "hi\n",
            "hi\n",
            "hi\n",
            "hi\n",
            "hi\n",
            "hi\n",
            "hi\n",
            "hi\n",
            "hi\n",
            "hi\n",
            "hi\n",
            "hi\n",
            "hi\n",
            "hi\n",
            "hi\n",
            "hi\n",
            "hi\n",
            "hi\n",
            "hi\n",
            "hi\n",
            "hi\n",
            "hi\n",
            "hi\n",
            "hi\n",
            "hi\n",
            "hi\n",
            "hi\n",
            "hi\n",
            "hi\n",
            "hi\n",
            "hi\n",
            "hi\n",
            "hi\n",
            "hi\n",
            "hi\n",
            "hi\n",
            "hi\n",
            "hi\n",
            "hi\n",
            "hi\n",
            "hi\n",
            "hi\n",
            "hi\n",
            "hi\n",
            "hi\n",
            "hi\n",
            "hi\n",
            "hi\n",
            "hi\n",
            "hi\n",
            "hi\n",
            "hi\n",
            "hi\n",
            "hi\n",
            "hi\n",
            "hi\n",
            "hi\n",
            "hi\n",
            "hi\n",
            "hi\n",
            "hi\n",
            "hi\n",
            "hi\n",
            "hi\n",
            "hi\n"
          ]
        },
        {
          "output_type": "error",
          "ename": "RecursionError",
          "evalue": "maximum recursion depth exceeded while calling a Python object",
          "traceback": [
            "\u001b[0;31m---------------------------------------------------------------------------\u001b[0m",
            "\u001b[0;31mRecursionError\u001b[0m                            Traceback (most recent call last)",
            "\u001b[0;32m/usr/lib/python3.10/threading.py\u001b[0m in \u001b[0;36m_wait_for_tstate_lock\u001b[0;34m(self, block, timeout)\u001b[0m\n\u001b[1;32m   1115\u001b[0m         \u001b[0;32mtry\u001b[0m\u001b[0;34m:\u001b[0m\u001b[0;34m\u001b[0m\u001b[0;34m\u001b[0m\u001b[0m\n\u001b[0;32m-> 1116\u001b[0;31m             \u001b[0;32mif\u001b[0m \u001b[0mlock\u001b[0m\u001b[0;34m.\u001b[0m\u001b[0macquire\u001b[0m\u001b[0;34m(\u001b[0m\u001b[0mblock\u001b[0m\u001b[0;34m,\u001b[0m \u001b[0mtimeout\u001b[0m\u001b[0;34m)\u001b[0m\u001b[0;34m:\u001b[0m\u001b[0;34m\u001b[0m\u001b[0;34m\u001b[0m\u001b[0m\n\u001b[0m\u001b[1;32m   1117\u001b[0m                 \u001b[0mlock\u001b[0m\u001b[0;34m.\u001b[0m\u001b[0mrelease\u001b[0m\u001b[0;34m(\u001b[0m\u001b[0;34m)\u001b[0m\u001b[0;34m\u001b[0m\u001b[0;34m\u001b[0m\u001b[0m\n",
            "\u001b[0;31mRecursionError\u001b[0m: maximum recursion depth exceeded while calling a Python object",
            "\nDuring handling of the above exception, another exception occurred:\n",
            "\u001b[0;31mRecursionError\u001b[0m                            Traceback (most recent call last)",
            "\u001b[0;32m<ipython-input-27-1fbc2bde5f42>\u001b[0m in \u001b[0;36m<cell line: 4>\u001b[0;34m()\u001b[0m\n\u001b[1;32m      2\u001b[0m   \u001b[0mprint\u001b[0m\u001b[0;34m(\u001b[0m\u001b[0;34m\"hi\"\u001b[0m\u001b[0;34m)\u001b[0m\u001b[0;34m\u001b[0m\u001b[0;34m\u001b[0m\u001b[0m\n\u001b[1;32m      3\u001b[0m   \u001b[0mn\u001b[0m\u001b[0;34m(\u001b[0m\u001b[0;34m)\u001b[0m\u001b[0;34m\u001b[0m\u001b[0;34m\u001b[0m\u001b[0m\n\u001b[0;32m----> 4\u001b[0;31m \u001b[0mn\u001b[0m\u001b[0;34m(\u001b[0m\u001b[0;34m)\u001b[0m\u001b[0;34m\u001b[0m\u001b[0;34m\u001b[0m\u001b[0m\n\u001b[0m",
            "\u001b[0;32m<ipython-input-27-1fbc2bde5f42>\u001b[0m in \u001b[0;36mn\u001b[0;34m()\u001b[0m\n\u001b[1;32m      1\u001b[0m \u001b[0;32mdef\u001b[0m \u001b[0mn\u001b[0m\u001b[0;34m(\u001b[0m\u001b[0;34m)\u001b[0m\u001b[0;34m:\u001b[0m\u001b[0;34m\u001b[0m\u001b[0;34m\u001b[0m\u001b[0m\n\u001b[1;32m      2\u001b[0m   \u001b[0mprint\u001b[0m\u001b[0;34m(\u001b[0m\u001b[0;34m\"hi\"\u001b[0m\u001b[0;34m)\u001b[0m\u001b[0;34m\u001b[0m\u001b[0;34m\u001b[0m\u001b[0m\n\u001b[0;32m----> 3\u001b[0;31m   \u001b[0mn\u001b[0m\u001b[0;34m(\u001b[0m\u001b[0;34m)\u001b[0m\u001b[0;34m\u001b[0m\u001b[0;34m\u001b[0m\u001b[0m\n\u001b[0m\u001b[1;32m      4\u001b[0m \u001b[0mn\u001b[0m\u001b[0;34m(\u001b[0m\u001b[0;34m)\u001b[0m\u001b[0;34m\u001b[0m\u001b[0;34m\u001b[0m\u001b[0m\n",
            "... last 1 frames repeated, from the frame below ...\n",
            "\u001b[0;32m<ipython-input-27-1fbc2bde5f42>\u001b[0m in \u001b[0;36mn\u001b[0;34m()\u001b[0m\n\u001b[1;32m      1\u001b[0m \u001b[0;32mdef\u001b[0m \u001b[0mn\u001b[0m\u001b[0;34m(\u001b[0m\u001b[0;34m)\u001b[0m\u001b[0;34m:\u001b[0m\u001b[0;34m\u001b[0m\u001b[0;34m\u001b[0m\u001b[0m\n\u001b[1;32m      2\u001b[0m   \u001b[0mprint\u001b[0m\u001b[0;34m(\u001b[0m\u001b[0;34m\"hi\"\u001b[0m\u001b[0;34m)\u001b[0m\u001b[0;34m\u001b[0m\u001b[0;34m\u001b[0m\u001b[0m\n\u001b[0;32m----> 3\u001b[0;31m   \u001b[0mn\u001b[0m\u001b[0;34m(\u001b[0m\u001b[0;34m)\u001b[0m\u001b[0;34m\u001b[0m\u001b[0;34m\u001b[0m\u001b[0m\n\u001b[0m\u001b[1;32m      4\u001b[0m \u001b[0mn\u001b[0m\u001b[0;34m(\u001b[0m\u001b[0;34m)\u001b[0m\u001b[0;34m\u001b[0m\u001b[0;34m\u001b[0m\u001b[0m\n",
            "\u001b[0;31mRecursionError\u001b[0m: maximum recursion depth exceeded while calling a Python object"
          ]
        }
      ]
    },
    {
      "cell_type": "code",
      "source": [
        "#recursion - 1)base condition 2)func with parameters and return\n",
        "#sum of natural numbers\n",
        "\n",
        "def sum(n):\n",
        "  if n==0:\n",
        "    return 0\n",
        "  return sum(n-1)+n\n",
        "n= int(input('n'))\n",
        "print(sum(n))"
      ],
      "metadata": {
        "colab": {
          "base_uri": "https://localhost:8080/"
        },
        "id": "0Zxi9FI9Gcc1",
        "outputId": "236bc672-5653-4ec5-f953-0a70cc476abb"
      },
      "execution_count": null,
      "outputs": [
        {
          "output_type": "stream",
          "name": "stdout",
          "text": [
            "n21\n",
            "231\n"
          ]
        }
      ]
    },
    {
      "cell_type": "code",
      "source": [
        "#finding max in list\n",
        "l=[1,2,43,44,78,90]\n",
        "print(max(l))"
      ],
      "metadata": {
        "colab": {
          "base_uri": "https://localhost:8080/"
        },
        "id": "h3OtXbhwJXT-",
        "outputId": "8f6ab38b-fd76-4cab-ccbb-aaa535c6963e"
      },
      "execution_count": null,
      "outputs": [
        {
          "output_type": "stream",
          "name": "stdout",
          "text": [
            "90\n"
          ]
        }
      ]
    },
    {
      "cell_type": "code",
      "source": [
        "marks=[1,22,33,144,55,6,77]\n",
        "max=-1\n",
        "\n",
        "for i in range(0,len(marks)):\n",
        "  if marks[i]>max:\n",
        "    max=marks[i]\n",
        "print(max)\n"
      ],
      "metadata": {
        "id": "Num63L4hK8Qy",
        "colab": {
          "base_uri": "https://localhost:8080/"
        },
        "outputId": "60eb364d-4015-482f-d230-8fcb54299b58"
      },
      "execution_count": null,
      "outputs": [
        {
          "output_type": "stream",
          "name": "stdout",
          "text": [
            "144\n"
          ]
        }
      ]
    },
    {
      "cell_type": "code",
      "source": [
        "#prog with functions and loops\n",
        "def get_grade(avg_marks):\n",
        "  if avg_marks>=90:\n",
        "    return'A'\n",
        "  elif avg_marks>80 and avg_marks<90:\n",
        "    return 'B'\n",
        "  elif avg_marks>70 and avg_marks<80:\n",
        "    return\"c\"\n",
        "  else:\n",
        "    return'D'\n",
        "\n",
        "def get_avg(marks_list):\n",
        "  sum=0\n",
        "  n=len(marks_list)\n",
        "  for i in range(0,n):\n",
        "    sum=sum+marks_list[i]\n",
        "  return sum/n\n",
        "\n",
        "\n",
        "\n",
        "def main():\n",
        "  n=(int(input()))\n",
        "  name_list=[]\n",
        "  avg_list=[]\n",
        "  for i in range(0,n):\n",
        "      name=(input(\"you name\"))\n",
        "      marks_list=list(map(int,input(\"6 sub marks\").split(' ')))\n",
        "      name_list.append(name)\n",
        "      avg_list.append(get_avg(marks_list))\n",
        "  for i in range(0,n):\n",
        "     print(name_list[i])\n",
        "     print('ave',avg_list[i])\n",
        "     print(get_grade(avg_list[i]))\n",
        "\n",
        "\n",
        "\n",
        "\n",
        "if __name__== '__main__':\n",
        "  main()\n",
        "\n"
      ],
      "metadata": {
        "colab": {
          "base_uri": "https://localhost:8080/"
        },
        "id": "G4c8cU_arLhd",
        "outputId": "ba8ea500-f20c-4c89-8c14-d829c1ebc5b3"
      },
      "execution_count": null,
      "outputs": [
        {
          "output_type": "stream",
          "name": "stdout",
          "text": [
            "2\n",
            "you namewe\n",
            "6 sub marks12 13 12 12 12 44\n",
            "you namerr\n",
            "6 sub marks33 44 55 66 77\n",
            "we\n",
            "ave 17.5\n",
            "D\n",
            "rr\n",
            "ave 55.0\n",
            "D\n"
          ]
        }
      ]
    },
    {
      "cell_type": "code",
      "source": [
        "n=int(input(\"\"))\n",
        "total =0\n",
        "for i in range(n):\n",
        "    marks=int(input())\n",
        "    total=total+marks\n",
        "print(total)\n",
        "def ave(total,n):\n",
        "      return total/n\n",
        "print(ave(total,n))\n",
        "\n",
        "def grade():\n",
        "  if total>90:\n",
        "    print(\"A\")\n",
        "  elif total<90 and total>80:\n",
        "    print(\"B\")\n",
        "  elif total<60:\n",
        "    print(\"C\")\n",
        "  else:\n",
        "    print(\"fail\")\n",
        "print(grade())\n",
        "\n",
        "\n"
      ],
      "metadata": {
        "colab": {
          "base_uri": "https://localhost:8080/"
        },
        "id": "asle_u3MoK4E",
        "outputId": "388bc5e5-7421-43ba-b454-2dcb03288d96"
      },
      "execution_count": null,
      "outputs": [
        {
          "output_type": "stream",
          "name": "stdout",
          "text": [
            "2\n",
            "22\n",
            "33\n",
            "55\n",
            "27.5\n",
            "C\n",
            "None\n"
          ]
        }
      ]
    },
    {
      "cell_type": "code",
      "source": [
        "l=[1,2,3,4,5]\n",
        "square=[]\n",
        "for i in l:\n",
        "   square.append(i**2)\n",
        "print(square)\n"
      ],
      "metadata": {
        "colab": {
          "base_uri": "https://localhost:8080/"
        },
        "id": "VKeNUv2kzlkd",
        "outputId": "f9912c85-7f98-4ca0-c882-ea7d13e32bc2"
      },
      "execution_count": null,
      "outputs": [
        {
          "output_type": "stream",
          "name": "stdout",
          "text": [
            "[1, 4, 9, 16, 25]\n"
          ]
        }
      ]
    },
    {
      "cell_type": "code",
      "source": [
        "\n",
        "a=(set(map(int,input().split())))\n",
        "print(a)\n",
        "\n"
      ],
      "metadata": {
        "colab": {
          "base_uri": "https://localhost:8080/"
        },
        "id": "3GS1MAgCyQqb",
        "outputId": "ae75a698-93ed-4afc-a2fd-9b22516b71fd"
      },
      "execution_count": null,
      "outputs": [
        {
          "output_type": "stream",
          "name": "stdout",
          "text": [
            "22 33 44\n",
            "{33, 44, 22}\n"
          ]
        }
      ]
    },
    {
      "cell_type": "code",
      "source": [
        "def square(a):\n",
        "    return  a**3\n",
        "a=[1,2,3,4,5,6]\n",
        "\n",
        "sq=list(map(square,a))\n",
        "print(sq)"
      ],
      "metadata": {
        "colab": {
          "base_uri": "https://localhost:8080/"
        },
        "id": "XjxYBXk92fmW",
        "outputId": "5f9aa52d-2064-4931-966f-28caf94e366d"
      },
      "execution_count": null,
      "outputs": [
        {
          "output_type": "stream",
          "name": "stdout",
          "text": [
            "[1, 8, 27, 64, 125, 216]\n"
          ]
        }
      ]
    },
    {
      "cell_type": "code",
      "source": [
        "name=input()\n",
        "value=input()\n",
        "def sum(name,value):\n",
        "     return print(\"hi\",name,value)\n",
        "sum(name,value)"
      ],
      "metadata": {
        "id": "lo-XGPkeyeIr",
        "colab": {
          "base_uri": "https://localhost:8080/"
        },
        "outputId": "74d26f66-6434-4bc9-b205-c8ecc668afad"
      },
      "execution_count": null,
      "outputs": [
        {
          "name": "stdout",
          "output_type": "stream",
          "text": [
            "hi\n"
          ]
        }
      ]
    },
    {
      "cell_type": "code",
      "source": [
        "arr=[1,1,2,3,4,2,3,4,2,2,3,2,2,2,2,5,6,7]\n",
        "\n",
        "def count(arr,size,occur):\n",
        "  c=0\n",
        "  for i in range(0,size):\n",
        "    if arr[i]==occur:\n",
        "      c=c+1\n",
        "  return c\n",
        "\n",
        "print(count(arr,len(arr),1))\n",
        "print(count(arr,len(arr),2))"
      ],
      "metadata": {
        "colab": {
          "base_uri": "https://localhost:8080/"
        },
        "id": "k8lHJ40v4jqX",
        "outputId": "13c82c57-3c13-4da0-bf5c-c6965b0885d4"
      },
      "execution_count": null,
      "outputs": [
        {
          "output_type": "stream",
          "name": "stdout",
          "text": [
            "2\n",
            "8\n"
          ]
        }
      ]
    },
    {
      "cell_type": "code",
      "source": [
        "#strings\n",
        "c=\"Phonicia Anne\"\n",
        "for character in c:\n",
        "  print(character)\n",
        "for character in c:\n",
        "  print(\"ascii values \",ord(character))\n",
        "#.lower for low values,.upper for big\n",
        "print(c.lower())"
      ],
      "metadata": {
        "id": "zhyANdU5zdpo",
        "colab": {
          "base_uri": "https://localhost:8080/"
        },
        "outputId": "af8d55c9-7b8c-408a-ee83-44b7a5367b9f"
      },
      "execution_count": null,
      "outputs": [
        {
          "output_type": "stream",
          "name": "stdout",
          "text": [
            "P\n",
            "h\n",
            "o\n",
            "n\n",
            "i\n",
            "c\n",
            "i\n",
            "a\n",
            " \n",
            "A\n",
            "n\n",
            "n\n",
            "e\n",
            "ascii values  80\n",
            "ascii values  104\n",
            "ascii values  111\n",
            "ascii values  110\n",
            "ascii values  105\n",
            "ascii values  99\n",
            "ascii values  105\n",
            "ascii values  97\n",
            "ascii values  32\n",
            "ascii values  65\n",
            "ascii values  110\n",
            "ascii values  110\n",
            "ascii values  101\n",
            "phonicia anne\n"
          ]
        }
      ]
    },
    {
      "cell_type": "code",
      "source": [
        "#dictionry prog\n",
        "data=['A','B','A','C','B','A','C','A','A','B','C','C','A','D','D','A','C']\n",
        "Dict={}\n",
        "for i in range(len(data)):\n",
        "    temp=Dict.get(data[i])\n",
        "    if temp is None:\n",
        "      Dict[data[i]]=1\n",
        "    else:\n",
        "      Dict[data[i]]=temp+1\n",
        "for key,value in Dict.items():\n",
        "  print(key,value)"
      ],
      "metadata": {
        "id": "FEG18soVySlh"
      },
      "execution_count": null,
      "outputs": []
    },
    {
      "cell_type": "code",
      "source": [
        "#function on strings:string slicing,typeconversions,fstrings\n",
        "s=\"phonicia anne\"\n",
        "print(s[3:10])\n",
        "#convert string into list(split)\n",
        "l=\"hi s do no\"\n",
        "print(list(l.split(\" \")))\n",
        "#join\n",
        "s=[\"hi\",'hlo','s','do','no']\n",
        "print(' '.join(s))\n",
        "\n",
        "\n",
        "#type conversions  list-tuple,set-list\n",
        "print(tuple(s))\n",
        "print(set(s))\n",
        "#fstrings\n",
        "a=10\n",
        "b=20\n",
        "c=25\n",
        "print(a,b,c)\n",
        "print(f'a:{a},b:{b},c:{c}')\n"
      ],
      "metadata": {
        "id": "21XGtVN4g8ig",
        "colab": {
          "base_uri": "https://localhost:8080/"
        },
        "outputId": "30a8025f-3b82-4e24-b59a-4c34695705b7"
      },
      "execution_count": null,
      "outputs": [
        {
          "output_type": "stream",
          "name": "stdout",
          "text": [
            "nicia a\n",
            "['hi', 's', 'do', 'no']\n",
            "hi hlo s do no\n",
            "('hi', 'hlo', 's', 'do', 'no')\n",
            "{'s', 'hi', 'no', 'hlo', 'do'}\n",
            "10 20 25\n",
            "a:10,b:20,c:25\n"
          ]
        }
      ]
    },
    {
      "cell_type": "code",
      "source": [
        "# Program to print the fibonacci series upto n_terms\n",
        "\n",
        "# Recursive function\n",
        "def recursive_fibonacci(n):\n",
        "    if n <= 1:\n",
        "\t      return n\n",
        "    else:\n",
        "\t      return(recursive_fibonacci(n-1) + recursive_fibonacci(n-2))\n",
        "\n",
        "n_terms = int(input())\n",
        "\n",
        "# check if the number of terms is valid\n",
        "if n_terms <= 1:\n",
        "     print(\"Invalid input ! Please input a positive value\")\n",
        "\n",
        "\n",
        "\n",
        "for i in range(n_terms):\n",
        "\t  print(recursive_fibonacci(i))\n"
      ],
      "metadata": {
        "id": "gXpmI16M_BiF",
        "colab": {
          "base_uri": "https://localhost:8080/"
        },
        "outputId": "cafab077-90fd-4f31-c1ba-aabe96747ed9"
      },
      "execution_count": null,
      "outputs": [
        {
          "output_type": "stream",
          "name": "stdout",
          "text": [
            "5\n",
            "0\n",
            "1\n",
            "1\n",
            "2\n",
            "3\n"
          ]
        }
      ]
    },
    {
      "cell_type": "code",
      "source": [
        "a = [90, 30, 55, 70]\n",
        "n = len(a)\n",
        "def sum(a):\n",
        "    total = 0\n",
        "    for i in a:\n",
        "        total += i\n",
        "    return total/n\n",
        "\n",
        "print(sum(a))\n"
      ],
      "metadata": {
        "id": "1T3j_GPJESlt",
        "colab": {
          "base_uri": "https://localhost:8080/"
        },
        "outputId": "9b894b55-1f0e-4f17-bbad-2ef4c091cd42"
      },
      "execution_count": null,
      "outputs": [
        {
          "output_type": "stream",
          "name": "stdout",
          "text": [
            "61.25\n"
          ]
        }
      ]
    },
    {
      "cell_type": "code",
      "source": [
        "def main():\n",
        "    num_subjects = int(input(\"Enter the number of subjects: \"))\n",
        "\n",
        "    # Initialize total_marks to 0\n",
        "    total_marks = 0\n",
        "\n",
        "    # Loop to input marks for each subject and add them to total_marks\n",
        "    for i in range(num_subjects):\n",
        "        mark = float(input(\" \"))\n",
        "        total_marks = total_marks +mark\n",
        "\n",
        "    # Calculate average by dividing total_marks by the number of subjects\n",
        "    average = total_marks / num_subjects\n",
        "\n",
        "    print(\"Average marks:\", average)\n",
        "\n",
        "if __name__ == \"__main__\":\n",
        "    main()"
      ],
      "metadata": {
        "colab": {
          "base_uri": "https://localhost:8080/"
        },
        "id": "PX9IxMoAiQDK",
        "outputId": "28ce6b36-e608-4e18-a6e5-7094d917fa90"
      },
      "execution_count": null,
      "outputs": [
        {
          "output_type": "stream",
          "name": "stdout",
          "text": [
            "Enter the number of subjects: 3\n",
            " 52\n",
            " 55\n",
            " 55\n",
            "Average marks: 54.0\n"
          ]
        }
      ]
    },
    {
      "cell_type": "code",
      "source": [
        "n = int(input())\n",
        "\n",
        "def sum(n):\n",
        "     total=0\n",
        "     for i in range(n):\n",
        "        num=(int(input()))\n",
        "        total=total+num\n",
        "     return total\n",
        "print(\"total is \",sum(n))\n",
        "\n",
        "\n",
        "\n"
      ],
      "metadata": {
        "id": "Em584OyalILH",
        "colab": {
          "base_uri": "https://localhost:8080/"
        },
        "outputId": "5c045e28-29e5-42fa-baf0-0dc951243ad0"
      },
      "execution_count": null,
      "outputs": [
        {
          "output_type": "stream",
          "name": "stdout",
          "text": [
            "4\n",
            "4\n",
            "4\n",
            "4\n",
            "4\n",
            "total is  16\n"
          ]
        }
      ]
    },
    {
      "cell_type": "code",
      "source": [
        "n=int(input())\n",
        "def sum(n):\n",
        "   a=[]\n",
        "   for i in range (n):\n",
        "       num=int(input())\n",
        "       a.append(num)\n",
        "\n",
        "   total = 0\n",
        "   for i in a:\n",
        "     total=total+i\n",
        "   return total\n",
        "\n",
        "print(sum(n))"
      ],
      "metadata": {
        "colab": {
          "base_uri": "https://localhost:8080/"
        },
        "id": "44bxtQJHBh0t",
        "outputId": "959221c8-f263-482f-d483-2bc539124851"
      },
      "execution_count": null,
      "outputs": [
        {
          "output_type": "stream",
          "name": "stdout",
          "text": [
            "3\n",
            "1\n",
            "5\n",
            "6\n",
            "12\n"
          ]
        }
      ]
    },
    {
      "cell_type": "code",
      "source": [
        "#oops\n",
        "Interitance\n",
        "poylmerphism\n",
        "encapsulation\n",
        "abstraction"
      ],
      "metadata": {
        "id": "QF_XyNuuALT8"
      },
      "execution_count": null,
      "outputs": []
    },
    {
      "cell_type": "code",
      "source": [
        "#clasees in object\n",
        "class hi:\n",
        "  def __init__(self,name,age):\n",
        "    self.name=name\n",
        "    self.age=age\n",
        "a=hi('shasi',20)\n",
        "b=hi('phoni',10)\n",
        "print(a.name,a.age)\n",
        "print(b.name,b.age)\n"
      ],
      "metadata": {
        "colab": {
          "base_uri": "https://localhost:8080/"
        },
        "id": "NxQZz7s3L1YW",
        "outputId": "15e1690f-2979-47ad-da9c-aea1197b6b81"
      },
      "execution_count": null,
      "outputs": [
        {
          "output_type": "stream",
          "name": "stdout",
          "text": [
            "shasi 20\n",
            "phoni 10\n"
          ]
        }
      ]
    },
    {
      "cell_type": "code",
      "source": [],
      "metadata": {
        "id": "yDin6bXEwUMd"
      },
      "execution_count": null,
      "outputs": []
    },
    {
      "cell_type": "code",
      "source": [
        "#class-variables/attributes   1- normal class variables 2-static variables\n",
        "\n",
        "class student:\n",
        "  scl ='abc'\n",
        "  def __init__(self,name,age):\n",
        "     self.name=name\n",
        "     self.age=age\n",
        "  def name(self):\n",
        "    print(self.age)\n",
        "s1=student('a',3)\n",
        "print(s1.name,s1.age,s1.scl)\n",
        "s1.name"
      ],
      "metadata": {
        "id": "LpOr80CaP813",
        "colab": {
          "base_uri": "https://localhost:8080/",
          "height": 53
        },
        "outputId": "92bded9c-066d-43c0-9e4d-717c58f811ad"
      },
      "execution_count": null,
      "outputs": [
        {
          "output_type": "stream",
          "name": "stdout",
          "text": [
            "a 3 abc\n"
          ]
        },
        {
          "output_type": "execute_result",
          "data": {
            "text/plain": [
              "'a'"
            ],
            "application/vnd.google.colaboratory.intrinsic+json": {
              "type": "string"
            }
          },
          "metadata": {},
          "execution_count": 8
        }
      ]
    },
    {
      "cell_type": "code",
      "source": [
        "#inheritance- remove code duplicate\n",
        "#reuse code\n",
        "# 5 types - single level inher,multi level inheri,multiple interi,heirarchial inheri,hybrid inheit\n",
        "class student:\n",
        "  def __init__(self,a_val):\n",
        "    self.a=a_val\n",
        "  def print_a(self):\n",
        "    print(\"A\",self.a)\n",
        "class ans(student):\n",
        "  def __init__(self,a_val,b_val):\n",
        "    student.__init__(self,a_val)\n",
        "    self.b=b_val\n",
        "\n",
        "  def print_b(self):\n",
        "    print(\"B\",self.b)\n",
        "\n",
        "c=ans(10,20)\n",
        "c.print_a()\n",
        "c.print_b()\n"
      ],
      "metadata": {
        "id": "Kq79B-lAxbMd",
        "colab": {
          "base_uri": "https://localhost:8080/"
        },
        "outputId": "503be903-e313-4324-c340-f246f76b4d97"
      },
      "execution_count": null,
      "outputs": [
        {
          "output_type": "stream",
          "name": "stdout",
          "text": [
            "A 10\n",
            "B 20\n"
          ]
        }
      ]
    },
    {
      "cell_type": "code",
      "source": [
        "class Driver:\n",
        "  def __init__(self,fname,lname):\n",
        "    self.fname=fname\n",
        "    self.lname=lname\n",
        "  def name(self):\n",
        "    print(\"Name is \",self.fname+self.lname)\n",
        "class Details(Driver):\n",
        "  def __init__(self,fname,lname,no):\n",
        "    Driver.__init__(self,fname,lname)\n",
        "    self.no = no\n",
        "\n",
        "  def val(self):\n",
        "    print(\"age\",self.no)\n",
        "  def major(self):\n",
        "    if self.no >= 20:\n",
        "      return('major')\n",
        "    else:\n",
        "      return(\"minor\")\n",
        "\n",
        "ans= Details('phonicia','anne',20)\n",
        "ans.name()\n",
        "ans.val()\n",
        "print(\"\",ans.major())"
      ],
      "metadata": {
        "id": "ZV2kiezJHony",
        "colab": {
          "base_uri": "https://localhost:8080/"
        },
        "outputId": "a6e77659-df0c-460b-9866-974b23ad2319"
      },
      "execution_count": null,
      "outputs": [
        {
          "output_type": "stream",
          "name": "stdout",
          "text": [
            "Name is  phoniciaanne\n",
            "age 20\n",
            " major\n"
          ]
        }
      ]
    },
    {
      "cell_type": "code",
      "source": [
        "print(10%-3)\n",
        "print(11%-3)\n",
        "print(13%-5)"
      ],
      "metadata": {
        "colab": {
          "base_uri": "https://localhost:8080/"
        },
        "id": "tHF9ryYufAgt",
        "outputId": "95698270-6c4a-44a5-e030-992849052c49"
      },
      "execution_count": null,
      "outputs": [
        {
          "output_type": "stream",
          "name": "stdout",
          "text": [
            "-2\n",
            "-1\n"
          ]
        }
      ]
    },
    {
      "cell_type": "code",
      "source": [
        "values = map(int, input(\"Enter multiple values separated by space: \").split())\n",
        "print(id(values))\n"
      ],
      "metadata": {
        "id": "HJSKoYUNfD9l",
        "colab": {
          "base_uri": "https://localhost:8080/"
        },
        "outputId": "f9c4293b-7df6-4460-b341-c0fb1c59cc8b"
      },
      "execution_count": null,
      "outputs": [
        {
          "output_type": "stream",
          "name": "stdout",
          "text": [
            "Enter multiple values separated by space: 2 3 4\n",
            "<map object at 0x7d67e5424dc0>\n"
          ]
        }
      ]
    },
    {
      "cell_type": "code",
      "source": [
        "a= input((\"\").split())\n",
        "print(a)"
      ],
      "metadata": {
        "id": "QhlyUbaEUY7P"
      },
      "execution_count": null,
      "outputs": []
    },
    {
      "cell_type": "code",
      "source": [
        "values = map(int, input(\"Enter multiple values separated by space: \").split())\n",
        "print(list(values))"
      ],
      "metadata": {
        "id": "rn9gKmBjX4fD"
      },
      "execution_count": null,
      "outputs": []
    },
    {
      "cell_type": "code",
      "source": [
        "list=[1,2,3,4,5,6,7,8,9,10]\n",
        "for i in list:\n",
        "  print(\"yes\")\n",
        "\n",
        "else:\n",
        "  print(\"no\")"
      ],
      "metadata": {
        "id": "gse_40iuZHeT",
        "colab": {
          "base_uri": "https://localhost:8080/"
        },
        "outputId": "f00d8ec7-931f-4ddb-a8a1-f0c1ee8af0f2"
      },
      "execution_count": null,
      "outputs": [
        {
          "output_type": "stream",
          "name": "stdout",
          "text": [
            "yes\n"
          ]
        }
      ]
    },
    {
      "cell_type": "code",
      "source": [
        "#multi inheritance\n",
        "class student:\n",
        "  def __init__(self,fname,lname):\n",
        "    self.fname = fname\n",
        "    self.lname = lname\n",
        "  def name(self):\n",
        "    print(\"Name is \",self.fname + self.lname)\n",
        "\n",
        "\n",
        "class strength(student):\n",
        "  def __init__(self,fname,lname,gender):\n",
        "    student.__init__(self,fname,lname)\n",
        "    self.gender = gender\n",
        "  def gender_is(self):\n",
        "    if self.gender == Male:\n",
        "      return (\"Male\")\n",
        "    else:\n",
        "      return (\"female\")\n",
        "\n",
        "class age_is(strength):\n",
        "  def __init__(self,fname,lname,gender,age):\n",
        "    strength.__init__(self,fname,lname,gender)\n",
        "    self.age = age\n",
        "  def major(self):\n",
        "    if self.age>18:\n",
        "      return (\"senior\",self.age)\n",
        "    else:\n",
        "      return (\"junior\")\n",
        "st1 = age_is(\"phoni\",\"anne\",\"F\",20)\n",
        "st2 = age_is(\"shashi\",\"rodda\",\"M\",15)\n",
        "\n",
        "print(st2.name())\n",
        "print(st1.major())\n",
        "\n",
        "\n"
      ],
      "metadata": {
        "colab": {
          "base_uri": "https://localhost:8080/"
        },
        "id": "wy7r48sykVQu",
        "outputId": "3500d9fa-9315-44aa-9e7c-c8461085613b"
      },
      "execution_count": null,
      "outputs": [
        {
          "output_type": "stream",
          "name": "stdout",
          "text": [
            "Name is  shashirodda\n",
            "None\n",
            "('senior', 20)\n"
          ]
        }
      ]
    },
    {
      "cell_type": "code",
      "source": [
        "class student:\n",
        "  def __init__(self,fname,lname):\n",
        "    self.fname = fname\n",
        "    self.lname = lname\n",
        "  def name(self):\n",
        "    print(\"Name is \",self.fname + self.lname)\n",
        "\n",
        "\n",
        "class strength(student):\n",
        "  def __init__(self,fname,lname,gender):\n",
        "    student.__init__(self,fname,lname)\n",
        "    self.gender = gender\n",
        "  def gender_is(self):\n",
        "    if self.gender == Male:\n",
        "      return (\"Male\")\n",
        "    else:\n",
        "      return (\"female\")\n",
        "\n",
        "class age_is(strength):\n",
        "  def __init__(self,fname,lname,gender,age):\n",
        "    strength.__init__(self,fname,lname,gender)\n",
        "    self.age = age\n",
        "  def major(self):\n",
        "    if self.age>18:\n",
        "      return (\"senior\",self.age)\n",
        "    else:\n",
        "      return (\"junior\")\n",
        "\n",
        "\n",
        "print(st2.name())\n",
        "print(st1.major())\n",
        "class marks(strength,student):\n",
        "  def __init__(self,fname,lname,gender,age,maths,eng):\n",
        "    strength.__init__(self,fname,lname,gender)\n",
        "    age_is.__init__(self,fname,lname,gender,age)\n",
        "    self.maths = maths\n",
        "    self.eng = eng\n",
        "stu3 = marks('Phoni','anne','F',20,89,98)\n",
        "print(stu3.strength())\n"
      ],
      "metadata": {
        "id": "np0cN6mTy45w",
        "colab": {
          "base_uri": "https://localhost:8080/",
          "height": 228
        },
        "outputId": "3c5c49d8-a31a-42b6-c002-5f7f3d2fb2a5"
      },
      "execution_count": null,
      "outputs": [
        {
          "output_type": "stream",
          "name": "stdout",
          "text": [
            "Name is  shashirodda\n",
            "None\n",
            "('senior', 20)\n"
          ]
        },
        {
          "output_type": "error",
          "ename": "AttributeError",
          "evalue": "'marks' object has no attribute 'strength'",
          "traceback": [
            "\u001b[0;31m---------------------------------------------------------------------------\u001b[0m",
            "\u001b[0;31mAttributeError\u001b[0m                            Traceback (most recent call last)",
            "\u001b[0;32m<ipython-input-11-ef8ab38cb5da>\u001b[0m in \u001b[0;36m<cell line: 39>\u001b[0;34m()\u001b[0m\n\u001b[1;32m     37\u001b[0m     \u001b[0mself\u001b[0m\u001b[0;34m.\u001b[0m\u001b[0meng\u001b[0m \u001b[0;34m=\u001b[0m \u001b[0meng\u001b[0m\u001b[0;34m\u001b[0m\u001b[0;34m\u001b[0m\u001b[0m\n\u001b[1;32m     38\u001b[0m \u001b[0mstu3\u001b[0m \u001b[0;34m=\u001b[0m \u001b[0mmarks\u001b[0m\u001b[0;34m(\u001b[0m\u001b[0;34m'Phoni'\u001b[0m\u001b[0;34m,\u001b[0m\u001b[0;34m'anne'\u001b[0m\u001b[0;34m,\u001b[0m\u001b[0;34m'F'\u001b[0m\u001b[0;34m,\u001b[0m\u001b[0;36m20\u001b[0m\u001b[0;34m,\u001b[0m\u001b[0;36m89\u001b[0m\u001b[0;34m,\u001b[0m\u001b[0;36m98\u001b[0m\u001b[0;34m)\u001b[0m\u001b[0;34m\u001b[0m\u001b[0;34m\u001b[0m\u001b[0m\n\u001b[0;32m---> 39\u001b[0;31m \u001b[0mprint\u001b[0m\u001b[0;34m(\u001b[0m\u001b[0mstu3\u001b[0m\u001b[0;34m.\u001b[0m\u001b[0mstrength\u001b[0m\u001b[0;34m(\u001b[0m\u001b[0;34m)\u001b[0m\u001b[0;34m)\u001b[0m\u001b[0;34m\u001b[0m\u001b[0;34m\u001b[0m\u001b[0m\n\u001b[0m",
            "\u001b[0;31mAttributeError\u001b[0m: 'marks' object has no attribute 'strength'"
          ]
        }
      ]
    },
    {
      "cell_type": "code",
      "source": [],
      "metadata": {
        "id": "3V7CbrK-uSV1"
      },
      "execution_count": null,
      "outputs": []
    }
  ]
}